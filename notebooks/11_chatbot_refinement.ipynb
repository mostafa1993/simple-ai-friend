{
 "cells": [
  {
   "cell_type": "markdown",
   "id": "3fb153b8",
   "metadata": {},
   "source": [
    "# 11 – Chatbot Refinement\n",
    "We upgrade our bot with **history** and **prompt engineering** tricks.\n",
    "## ✅ Goals\n",
    "- Store the last few turns of conversation\n",
    "- Craft system and user prompts\n",
    "- Gracefully handle empty or long inputs"
   ]
  },
  {
   "cell_type": "markdown",
   "id": "fdae8030",
   "metadata": {},
   "source": [
    "### 🏗️ Minimal History Class"
   ]
  },
  {
   "cell_type": "code",
   "execution_count": null,
   "id": "770522fa",
   "metadata": {},
   "outputs": [],
   "source": [
    "class MiniBot:\n",
    "    def __init__(self):\n",
    "        self.history = []  # list of (role, content)\n",
    "\n",
    "    def add(self, role, msg):\n",
    "        self.history.append((role, msg))\n",
    "        # keep only last 5\n",
    "        self.history = self.history[-5:]\n",
    "\n",
    "    def prompt(self, new_msg):\n",
    "        context = '\\n'.join(f\"{r}: {m}\" for r,m in self.history)\n",
    "        return f\"System: You are a helpful assistant.\\n{context}\\nUser: {new_msg}\\nAssistant:\""
   ]
  },
  {
   "cell_type": "markdown",
   "id": "6c78d7b8",
   "metadata": {},
   "source": [
    "### 🧪 Demo Prompt"
   ]
  },
  {
   "cell_type": "code",
   "execution_count": null,
   "id": "be76656a",
   "metadata": {},
   "outputs": [],
   "source": [
    "bot = MiniBot()\n",
    "bot.add('User', 'Hi')\n",
    "bot.add('Assistant', 'Hello!')\n",
    "print(bot.prompt('How are you?'))"
   ]
  },
  {
   "cell_type": "markdown",
   "id": "5e92887f",
   "metadata": {},
   "source": [
    "### 📝 Exercise\n",
    "Integrate `MiniBot` with `SimpleLLMHandler.generate()` so that the prompt sent to the LLM includes the history."
   ]
  }
 ],
 "metadata": {},
 "nbformat": 4,
 "nbformat_minor": 5
}

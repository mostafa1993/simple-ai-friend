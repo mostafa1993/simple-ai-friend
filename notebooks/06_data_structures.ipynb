{
 "cells": [
  {
   "cell_type": "markdown",
   "id": "d5ebdff8",
   "metadata": {},
   "source": [
    "# 06 – Data Structures\n",
    "Lists, tuples, sets, dicts, comprehensions."
   ]
  },
  {
   "cell_type": "markdown",
   "id": "b8c6af32",
   "metadata": {},
   "source": [
    "### List"
   ]
  },
  {
   "cell_type": "code",
   "execution_count": null,
   "id": "25618e46",
   "metadata": {},
   "outputs": [],
   "source": [
    "nums=[1,2,3]\n",
    "nums.append(4)\n",
    "print(nums)"
   ]
  },
  {
   "cell_type": "markdown",
   "id": "67a75c94",
   "metadata": {},
   "source": [
    "### Tuple (immutable)"
   ]
  },
  {
   "cell_type": "code",
   "execution_count": null,
   "id": "2515f071",
   "metadata": {},
   "outputs": [],
   "source": [
    "point=(2,3)\n",
    "print(point)"
   ]
  },
  {
   "cell_type": "markdown",
   "id": "21d77823",
   "metadata": {},
   "source": [
    "### Set"
   ]
  },
  {
   "cell_type": "code",
   "execution_count": null,
   "id": "e487d921",
   "metadata": {},
   "outputs": [],
   "source": [
    "colors={'red','green','red'}\n",
    "print(colors)"
   ]
  },
  {
   "cell_type": "markdown",
   "id": "b1d55180",
   "metadata": {},
   "source": [
    "### Dict"
   ]
  },
  {
   "cell_type": "code",
   "execution_count": null,
   "id": "0bcb0565",
   "metadata": {},
   "outputs": [],
   "source": [
    "person={'name':'Bob','age':30}\n",
    "print(person['name'])"
   ]
  },
  {
   "cell_type": "markdown",
   "id": "f9ef3d90",
   "metadata": {},
   "source": [
    "### Comprehension"
   ]
  },
  {
   "cell_type": "code",
   "execution_count": null,
   "id": "5cc8ed09",
   "metadata": {},
   "outputs": [],
   "source": [
    "[n*n for n in range(6)]"
   ]
  },
  {
   "cell_type": "markdown",
   "id": "f7635bf9",
   "metadata": {},
   "source": [
    "### Exercise\n",
    "Dict word lengths"
   ]
  },
  {
   "cell_type": "code",
   "execution_count": null,
   "id": "3a26bda0",
   "metadata": {},
   "outputs": [],
   "source": [
    "# solution here"
   ]
  }
 ],
 "metadata": {},
 "nbformat": 4,
 "nbformat_minor": 5
}

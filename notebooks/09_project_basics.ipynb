{
 "cells": [
  {
   "cell_type": "markdown",
   "id": "8699bbfe",
   "metadata": {},
   "source": [
    "# 09 – Project Basics: Rule‑Based Chatbot\n",
    "In this notebook we build our **first working chatbot** using only the Python you already know.\n",
    "## ✅ Goals\n",
    "- Create a dictionary of patterns → responses\n",
    "- Loop to keep the conversation going\n",
    "- Use functions to keep code tidy"
   ]
  },
  {
   "cell_type": "markdown",
   "id": "7a7aded5",
   "metadata": {},
   "source": [
    "### 🗂️ Response Dictionary"
   ]
  },
  {
   "cell_type": "code",
   "execution_count": null,
   "id": "a0f21eac",
   "metadata": {},
   "outputs": [],
   "source": [
    "RESPONSES = {\n",
    "    'hi': 'Hello there! 👋',\n",
    "    'how are you': \"I'm doing great, thanks!\",\n",
    "    'bye': 'Goodbye! 👋'\n",
    "}\n",
    "default_reply = \"Sorry, I don't understand.\"\n",
    "list(RESPONSES.items())"
   ]
  },
  {
   "cell_type": "markdown",
   "id": "64d9a7fd",
   "metadata": {},
   "source": [
    "### 🔄 Chat Loop"
   ]
  },
  {
   "cell_type": "code",
   "execution_count": null,
   "id": "0e5008e9",
   "metadata": {},
   "outputs": [],
   "source": [
    "while True:\n",
    "    user = input('You: ').lower()\n",
    "    if user in ('exit', 'quit'):\n",
    "        print('Bot: Bye!')\n",
    "        break\n",
    "    reply = RESPONSES.get(user, default_reply)\n",
    "    print('Bot:', reply)"
   ]
  },
  {
   "cell_type": "markdown",
   "id": "b1cb0280",
   "metadata": {},
   "source": [
    "### 🧹 Refactor to a Function"
   ]
  },
  {
   "cell_type": "code",
   "execution_count": null,
   "id": "2550c4d8",
   "metadata": {},
   "outputs": [],
   "source": [
    "def chat() -> None:\n",
    "    print('Type \"quit\" to exit')\n",
    "    while True:\n",
    "        user = input('You: ').lower()\n",
    "        if user == 'quit':\n",
    "            break\n",
    "        print('Bot:', RESPONSES.get(user, default_reply))\n",
    "chat()"
   ]
  },
  {
   "cell_type": "markdown",
   "id": "7ec68498",
   "metadata": {},
   "source": [
    "### 📝 Exercise\n",
    "1. Add at least **three** new user phrases.\n",
    "2. Make replies **case‑insensitive** (tip: `.lower()`)."
   ]
  }
 ],
 "metadata": {
  "language_info": {
   "name": "python"
  }
 },
 "nbformat": 4,
 "nbformat_minor": 5
}

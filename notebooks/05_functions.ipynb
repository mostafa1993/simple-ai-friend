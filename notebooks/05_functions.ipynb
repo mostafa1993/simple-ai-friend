{
 "cells": [
  {
   "cell_type": "markdown",
   "id": "3d830708",
   "metadata": {},
   "source": [
    "# 05 – Functions\n",
    "Define, call, parameters, defaults, return, scope."
   ]
  },
  {
   "cell_type": "markdown",
   "id": "8719ec83",
   "metadata": {},
   "source": [
    "### Define"
   ]
  },
  {
   "cell_type": "code",
   "execution_count": null,
   "id": "a7e3e944",
   "metadata": {},
   "outputs": [],
   "source": [
    "def greet(name: str) -> None:\n",
    "    print(f'Hello {name}!')\n",
    "\n",
    "greet('Alice')"
   ]
  },
  {
   "cell_type": "markdown",
   "id": "a1480069",
   "metadata": {},
   "source": [
    "### Defaults"
   ]
  },
  {
   "cell_type": "code",
   "execution_count": null,
   "id": "3ac70d70",
   "metadata": {},
   "outputs": [],
   "source": [
    "def power(base: int, exp: int = 2) -> int:\n",
    "    return base**exp\n",
    "\n",
    "print(power(3))"
   ]
  },
  {
   "cell_type": "markdown",
   "id": "fabeb43a",
   "metadata": {},
   "source": [
    "### Keyword args"
   ]
  },
  {
   "cell_type": "code",
   "execution_count": null,
   "id": "fa81b663",
   "metadata": {},
   "outputs": [],
   "source": [
    "print(power(exp=3, base=2))"
   ]
  },
  {
   "cell_type": "markdown",
   "id": "db08da34",
   "metadata": {},
   "source": [
    "### Scope"
   ]
  },
  {
   "cell_type": "code",
   "execution_count": null,
   "id": "9df7dbbc",
   "metadata": {},
   "outputs": [],
   "source": [
    "x='global'\n",
    "\n",
    "def show() -> None:\n",
    "    x='local'\n",
    "    print('inside',x)\n",
    "\n",
    "show()\n",
    "print('outside',x)"
   ]
  },
  {
   "cell_type": "markdown",
   "id": "bdec611a",
   "metadata": {},
   "source": [
    "### Lambda"
   ]
  },
  {
   "cell_type": "code",
   "execution_count": null,
   "id": "7fcce0bc",
   "metadata": {},
   "outputs": [],
   "source": [
    "squares=list(map(lambda n:n*n, range(5)))\n",
    "print(squares)"
   ]
  },
  {
   "cell_type": "markdown",
   "id": "de77741f",
   "metadata": {},
   "source": [
    "### Exercise: factorial"
   ]
  },
  {
   "cell_type": "code",
   "execution_count": null,
   "id": "8ce52da3",
   "metadata": {},
   "outputs": [],
   "source": [
    "# factorial here"
   ]
  }
 ],
 "metadata": {
  "language_info": {
   "name": "python"
  }
 },
 "nbformat": 4,
 "nbformat_minor": 5
}

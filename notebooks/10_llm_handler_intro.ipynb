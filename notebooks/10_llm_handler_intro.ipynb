{
 "cells": [
  {
   "cell_type": "markdown",
   "id": "35306b3c",
   "metadata": {},
   "source": [
    "# 10 – Using `SimpleLLMHandler`\n",
    "Let's connect our chatbot to a real Large‑Language Model (LLM)! 🧠\n",
    "## ✅ Goals\n",
    "- Understand the `SimpleLLMHandler` class\n",
    "- Test with the *mock* provider first\n",
    "- (Optional) connect to OpenAI or your local Ollama"
   ]
  },
  {
   "cell_type": "markdown",
   "id": "c75e1aa4",
   "metadata": {},
   "source": [
    "### 📄 Inspect the Module"
   ]
  },
  {
   "cell_type": "code",
   "execution_count": null,
   "id": "c1d630f7",
   "metadata": {},
   "outputs": [],
   "source": [
    "from pathlib import Path, pprint\n",
    "code = Path('../chatbot/llm_handler.py').read_text().splitlines()[:40]\n",
    "print('\\n'.join(code))  # show first 40 lines"
   ]
  },
  {
   "cell_type": "markdown",
   "id": "316e7f2f",
   "metadata": {},
   "source": [
    "### ⚙️ Create a Handler (Mock)"
   ]
  },
  {
   "cell_type": "code",
   "execution_count": null,
   "id": "dbf0e942",
   "metadata": {},
   "outputs": [],
   "source": [
    "from chatbot.llm_handler import SimpleLLMHandler\n",
    "\n",
    "handler = SimpleLLMHandler(provider='openai', api_key='test-key')\n",
    "print(handler.generate('Hello!'))  # will likely error without real key"
   ]
  },
  {
   "cell_type": "markdown",
   "id": "6035a575",
   "metadata": {},
   "source": [
    "> **Note:**\n",
    "- Set your environment variable `OPENAI_API_KEY` before running a real call.\n",
    "- Use `provider='ollama'` if you have Ollama with a local model."
   ]
  },
  {
   "cell_type": "markdown",
   "id": "659875f6",
   "metadata": {},
   "source": [
    "### 📝 Exercise\n",
    "Replace the `generate` call with your own prompt.\n",
    "Try adding `handler.show_history()` afterwards."
   ]
  }
 ],
 "metadata": {},
 "nbformat": 4,
 "nbformat_minor": 5
}

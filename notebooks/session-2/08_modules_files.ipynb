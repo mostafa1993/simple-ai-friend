{
 "cells": [
  {
   "cell_type": "markdown",
   "id": "fa58f9a4",
   "metadata": {},
   "source": [
    "# 08 – Modules & File I/O\n",
    "Imports, scripts vs modules, files, JSON."
   ]
  },
  {
   "cell_type": "markdown",
   "id": "2cbb258b",
   "metadata": {},
   "source": [
    "### Import"
   ]
  },
  {
   "cell_type": "code",
   "execution_count": null,
   "id": "a9fff0d8",
   "metadata": {},
   "outputs": [],
   "source": [
    "import math\n",
    "math.sqrt(16)"
   ]
  },
  {
   "cell_type": "markdown",
   "id": "903bd7f8",
   "metadata": {},
   "source": [
    "### Write file"
   ]
  },
  {
   "cell_type": "code",
   "execution_count": null,
   "id": "45e64e0d",
   "metadata": {},
   "outputs": [],
   "source": [
    "with open('hello.txt','w') as f:\n",
    "    f.write('Hello')"
   ]
  },
  {
   "cell_type": "markdown",
   "id": "70018cf7",
   "metadata": {},
   "source": [
    "### Read file"
   ]
  },
  {
   "cell_type": "code",
   "execution_count": null,
   "id": "b9354e95",
   "metadata": {},
   "outputs": [],
   "source": [
    "with open('hello.txt') as f:\n",
    "    print(f.read())"
   ]
  },
  {
   "cell_type": "markdown",
   "id": "b12122eb",
   "metadata": {},
   "source": [
    "### JSON"
   ]
  },
  {
   "cell_type": "code",
   "execution_count": null,
   "id": "070aa2c1",
   "metadata": {},
   "outputs": [],
   "source": [
    "import json\n",
    "data={'a':1}\n",
    "json.dump(data, open('d.json','w'))\n",
    "json.load(open('d.json'))"
   ]
  },
  {
   "cell_type": "markdown",
   "id": "923d2118",
   "metadata": {},
   "source": [
    "### Exercise: calculator module"
   ]
  },
  {
   "cell_type": "code",
   "execution_count": null,
   "id": "a00a1b0a",
   "metadata": {},
   "outputs": [],
   "source": [
    "# your code"
   ]
  }
 ],
 "metadata": {},
 "nbformat": 4,
 "nbformat_minor": 5
}

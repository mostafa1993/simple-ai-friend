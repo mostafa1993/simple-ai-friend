{
 "cells": [
  {
   "cell_type": "markdown",
   "id": "e373ff95",
   "metadata": {},
   "source": [
    "# 04 – Loops\n",
    "\n",
    "Learn `for` and `while` loops, `break`, `continue`, and loop `else`."
   ]
  },
  {
   "cell_type": "markdown",
   "id": "737d0ff5",
   "metadata": {},
   "source": [
    "### `for` over a list"
   ]
  },
  {
   "cell_type": "code",
   "execution_count": null,
   "id": "97590cbb",
   "metadata": {},
   "outputs": [],
   "source": [
    "for fruit in ['apple','banana','cherry']:\n",
    "    print(fruit)"
   ]
  },
  {
   "cell_type": "markdown",
   "id": "226c838a",
   "metadata": {},
   "source": [
    "### `range()` numbers"
   ]
  },
  {
   "cell_type": "code",
   "execution_count": null,
   "id": "56c42df1",
   "metadata": {},
   "outputs": [],
   "source": [
    "for i in range(1,6):\n",
    "    print(i, end=' ')"
   ]
  },
  {
   "cell_type": "markdown",
   "id": "a63b2bfb",
   "metadata": {},
   "source": [
    "### `while` loop"
   ]
  },
  {
   "cell_type": "code",
   "execution_count": null,
   "id": "abb0ad06",
   "metadata": {},
   "outputs": [],
   "source": [
    "count=0\n",
    "while count<3:\n",
    "    print('count',count)\n",
    "    count+=1"
   ]
  },
  {
   "cell_type": "markdown",
   "id": "3a699b12",
   "metadata": {},
   "source": [
    "### break / continue"
   ]
  },
  {
   "cell_type": "code",
   "execution_count": null,
   "id": "08bfce97",
   "metadata": {},
   "outputs": [],
   "source": [
    "for n in range(1,10):\n",
    "    if n==5: break\n",
    "    if n%2==0: continue\n",
    "    print(n)"
   ]
  },
  {
   "cell_type": "markdown",
   "id": "768b2ccf",
   "metadata": {},
   "source": [
    "### Exercise\n",
    "Sum numbers until user enters 0"
   ]
  },
  {
   "cell_type": "code",
   "execution_count": null,
   "id": "eb882215",
   "metadata": {},
   "outputs": [],
   "source": [
    "# your code"
   ]
  }
 ],
 "metadata": {},
 "nbformat": 4,
 "nbformat_minor": 5
}

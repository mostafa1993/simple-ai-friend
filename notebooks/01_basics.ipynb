{
 "cells": [
  {
   "cell_type": "markdown",
   "id": "6e24cdc7",
   "metadata": {},
   "source": [
    "# 01 - Python Basics\n",
    "\n",
    "## ✅ Goals\n",
    "- Understand variables and data types\n",
    "- Practice simple expressions"
   ]
  },
  {
   "cell_type": "markdown",
   "id": "97271e9f",
   "metadata": {},
   "source": [
    "### Variables"
   ]
  },
  {
   "cell_type": "code",
   "execution_count": null,
   "id": "3e18e71b",
   "metadata": {},
   "outputs": [],
   "source": [
    "name = \"Alice\"\n",
    "age = 25\n",
    "print(name, age)"
   ]
  },
  {
   "cell_type": "markdown",
   "id": "a2720549",
   "metadata": {},
   "source": [
    "### Data Types"
   ]
  },
  {
   "cell_type": "code",
   "execution_count": null,
   "id": "cc23e181",
   "metadata": {},
   "outputs": [],
   "source": [
    "print(type(name))\n",
    "print(type(age))"
   ]
  },
  {
   "cell_type": "markdown",
   "id": "6b2ff450",
   "metadata": {},
   "source": [
    "### Basic Math"
   ]
  },
  {
   "cell_type": "code",
   "execution_count": null,
   "id": "49a5dc8a",
   "metadata": {},
   "outputs": [],
   "source": [
    "a = 10\n",
    "b = 3\n",
    "print(a + b)\n",
    "print(a ** b)"
   ]
  }
 ],
 "metadata": {},
 "nbformat": 4,
 "nbformat_minor": 5
}

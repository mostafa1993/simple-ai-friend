{
 "cells": [
  {
   "cell_type": "markdown",
   "id": "6e24cdc7",
   "metadata": {},
   "source": [
    "# 01 - Python Basics\n",
    "\n",
    "## ✅ Goals\n",
    "- Understand variables and data types (int, float, str, bool, list, dict, tuple, set)\n",
    "- Practice simple expressions and operations\n",
    "- Get familiar with collections (list, dict, tuple, set)\n",
    "- Learn about variable scope, naming, reassignment, unpacking, and advanced assignment\n",
    "- Practice with hands-on exercises"
   ]
  },
  {
   "cell_type": "markdown",
   "id": "97271e9f",
   "metadata": {},
   "source": [
    "## Variables\n",
    "\n",
    "Variables are used to store data. You can assign any value to a variable.\n",
    "\n",
    "### Naming Rules\n",
    "- Variable names can contain letters, numbers, and underscores, but cannot start with a number.\n",
    "- Names are case-sensitive (`myVar` and `myvar` are different).\n",
    "- Use descriptive names for clarity.\n",
    "\n",
    "### Assignment and Reassignment\n",
    "You can assign and reassign values to variables at any time. Python is dynamically typed, so the type can change."
   ]
  },
  {
   "cell_type": "code",
   "execution_count": 5,
   "id": "basic-assignments",
   "metadata": {},
   "outputs": [
    {
     "name": "stdout",
     "output_type": "stream",
     "text": [
      "Alice 25 1.68 True\n"
     ]
    }
   ],
   "source": [
    "# Basic assignments\n",
    "name = \"Alice\"\n",
    "age = 25\n",
    "height = 1.68  # meters\n",
    "is_student = True\n",
    "print(name, age, height, is_student)"
   ]
  },
  {
   "cell_type": "code",
   "execution_count": 6,
   "id": "reassignment",
   "metadata": {},
   "outputs": [
    {
     "name": "stdout",
     "output_type": "stream",
     "text": [
      "Reassigned age: twenty-five\n"
     ]
    }
   ],
   "source": [
    "# Reassignment (type can change)\n",
    "age = \"twenty-five\"\n",
    "print(\"Reassigned age:\", age)"
   ]
  },
  {
   "cell_type": "code",
   "execution_count": 7,
   "id": "multiple-assignment",
   "metadata": {},
   "outputs": [
    {
     "name": "stdout",
     "output_type": "stream",
     "text": [
      "x: 1 y: 2 z: 3\n"
     ]
    }
   ],
   "source": [
    "# Multiple assignment\n",
    "x, y, z = 1, 2, 3\n",
    "print(\"x:\", x, \"y:\", y, \"z:\", z)"
   ]
  },
  {
   "cell_type": "code",
   "execution_count": 8,
   "id": "swapping",
   "metadata": {},
   "outputs": [
    {
     "name": "stdout",
     "output_type": "stream",
     "text": [
      "After swapping: a = 20 , b = 10\n"
     ]
    }
   ],
   "source": [
    "# Swapping variables\n",
    "a = 10\n",
    "b = 20\n",
    "a, b = b, a\n",
    "print(\"After swapping: a =\", a, \", b =\", b)"
   ]
  },
  {
   "cell_type": "code",
   "execution_count": 9,
   "id": "unpacking",
   "metadata": {},
   "outputs": [
    {
     "name": "stdout",
     "output_type": "stream",
     "text": [
      "First color: red\n"
     ]
    }
   ],
   "source": [
    "# Unpacking a list or tuple\n",
    "colors = [\"red\", \"green\", \"blue\"]\n",
    "first, second, third = colors\n",
    "print(\"First color:\", first)"
   ]
  },
  {
   "cell_type": "code",
   "execution_count": 10,
   "id": "underscore-unused",
   "metadata": {},
   "outputs": [
    {
     "name": "stdout",
     "output_type": "stream",
     "text": [
      "Name: Bob Profession: Engineer\n"
     ]
    }
   ],
   "source": [
    "# Using the underscore for unused variables\n",
    "person = (\"Bob\", 30, \"Engineer\")\n",
    "name, _, profession = person\n",
    "print(\"Name:\", name, \"Profession:\", profession)"
   ]
  },
  {
   "cell_type": "code",
   "execution_count": 11,
   "id": "augmented-assignment",
   "metadata": {},
   "outputs": [
    {
     "name": "stdout",
     "output_type": "stream",
     "text": [
      "Counter after += 5: 5\n"
     ]
    }
   ],
   "source": [
    "# Augmented assignment\n",
    "counter = 0\n",
    "counter += 5  # same as counter = counter + 5\n",
    "print(\"Counter after += 5:\", counter)"
   ]
  },
  {
   "cell_type": "code",
   "execution_count": 12,
   "id": "constants",
   "metadata": {},
   "outputs": [
    {
     "name": "stdout",
     "output_type": "stream",
     "text": [
      "PI: 3.14159\n"
     ]
    }
   ],
   "source": [
    "# Constants (by convention, use ALL_CAPS)\n",
    "PI = 3.14159\n",
    "print(\"PI:\", PI)"
   ]
  },
  {
   "cell_type": "markdown",
   "id": "a2720549",
   "metadata": {},
   "source": [
    "## Data Types\n",
    "\n",
    "Python has several built-in data types. Let's look at some of the most common ones:"
   ]
  },
  {
   "cell_type": "code",
   "execution_count": 13,
   "id": "cc23e181",
   "metadata": {},
   "outputs": [
    {
     "name": "stdout",
     "output_type": "stream",
     "text": [
      "<class 'str'>\n",
      "<class 'str'>\n",
      "<class 'float'>\n",
      "<class 'bool'>\n"
     ]
    }
   ],
   "source": [
    "print(type(name))      # str\n",
    "print(type(age))       # str (after reassignment above)\n",
    "print(type(height))    # float\n",
    "print(type(is_student))# bool"
   ]
  },
  {
   "cell_type": "markdown",
   "id": "list-types",
   "metadata": {},
   "source": [
    "### List\n",
    "\n",
    "A list is an ordered collection of items. Lists are mutable (can be changed).\n",
    "\n",
    "Lists can store any type of data, and you can use many useful methods to work with them."
   ]
  },
  {
   "cell_type": "code",
   "execution_count": 14,
   "id": "list-demo",
   "metadata": {},
   "outputs": [
    {
     "name": "stdout",
     "output_type": "stream",
     "text": [
      "['apple', 'banana', 'cherry']\n"
     ]
    }
   ],
   "source": [
    "# Creating a list\n",
    "fruits = [\"apple\", \"banana\", \"cherry\"]\n",
    "print(fruits)"
   ]
  },
  {
   "cell_type": "code",
   "execution_count": 15,
   "id": "list-append",
   "metadata": {},
   "outputs": [
    {
     "name": "stdout",
     "output_type": "stream",
     "text": [
      "Before appending: ['apple', 'banana', 'cherry']\n",
      "After appending: ['apple', 'banana', 'cherry', 'orange']\n"
     ]
    }
   ],
   "source": [
    "# Adding an item to the end of the list\n",
    "print(\"Before appending:\", fruits)\n",
    "fruits.append(\"orange\")\n",
    "print(\"After appending:\", fruits)"
   ]
  },
  {
   "cell_type": "code",
   "execution_count": 16,
   "id": "list-insert",
   "metadata": {},
   "outputs": [
    {
     "name": "stdout",
     "output_type": "stream",
     "text": [
      "Before inserting: ['apple', 'banana', 'cherry', 'orange']\n",
      "After inserting: ['apple', 'mango', 'banana', 'cherry', 'orange']\n"
     ]
    }
   ],
   "source": [
    "# Inserting an item at a specific position\n",
    "print(\"Before inserting:\", fruits)\n",
    "fruits.insert(1, \"mango\")  # Insert 'mango' at index 1\n",
    "print(\"After inserting:\", fruits)"
   ]
  },
  {
   "cell_type": "code",
   "execution_count": 17,
   "id": "list-access",
   "metadata": {},
   "outputs": [
    {
     "name": "stdout",
     "output_type": "stream",
     "text": [
      "mango\n",
      "orange\n"
     ]
    }
   ],
   "source": [
    "# Accessing items by index\n",
    "print(fruits[1])  # Second item\n",
    "print(fruits[-1]) # Last item"
   ]
  },
  {
   "cell_type": "code",
   "execution_count": 18,
   "id": "list-remove",
   "metadata": {},
   "outputs": [
    {
     "name": "stdout",
     "output_type": "stream",
     "text": [
      "Before removing: ['apple', 'mango', 'banana', 'cherry', 'orange']\n",
      "After removing: ['apple', 'mango', 'cherry', 'orange']\n"
     ]
    }
   ],
   "source": [
    "# Removing an item by value\n",
    "print(\"Before removing:\", fruits)\n",
    "fruits.remove(\"banana\")\n",
    "print(\"After removing:\", fruits)"
   ]
  },
  {
   "cell_type": "code",
   "execution_count": 20,
   "id": "list-pop",
   "metadata": {},
   "outputs": [
    {
     "name": "stdout",
     "output_type": "stream",
     "text": [
      "Before popping: ['apple', 'mango', 'orange']\n",
      "After popping: ['apple', 'mango']\n",
      "Removed: orange\n"
     ]
    }
   ],
   "source": [
    "# Removing an item by index (and getting its value)\n",
    "print(\"Before popping:\", fruits)\n",
    "removed = fruits.pop()  # Remove item at index 2\n",
    "print(\"After popping:\", fruits)\n",
    "print(\"Removed:\", removed)"
   ]
  },
  {
   "cell_type": "code",
   "execution_count": 21,
   "id": "list-len",
   "metadata": {},
   "outputs": [
    {
     "name": "stdout",
     "output_type": "stream",
     "text": [
      "2\n"
     ]
    }
   ],
   "source": [
    "# Getting the length of the list\n",
    "print(len(fruits))"
   ]
  },
  {
   "cell_type": "code",
   "execution_count": 22,
   "id": "list-sort",
   "metadata": {},
   "outputs": [
    {
     "name": "stdout",
     "output_type": "stream",
     "text": [
      "Before sorting: ['apple', 'mango']\n",
      "After sorting: ['apple', 'mango']\n"
     ]
    }
   ],
   "source": [
    "# Sorting the list\n",
    "print(\"Before sorting:\", fruits)\n",
    "fruits.sort()\n",
    "print(\"After sorting:\", fruits)"
   ]
  },
  {
   "cell_type": "code",
   "execution_count": 23,
   "id": "list-clear",
   "metadata": {},
   "outputs": [
    {
     "name": "stdout",
     "output_type": "stream",
     "text": [
      "After clearing: []\n"
     ]
    }
   ],
   "source": [
    "# Clearing all items from the list\n",
    "fruits.clear()\n",
    "print(\"After clearing:\", fruits)"
   ]
  },
  {
   "cell_type": "markdown",
   "id": "dict-types",
   "metadata": {},
   "source": [
    "### Dictionary\n",
    "\n",
    "A dictionary stores key-value pairs. Keys must be unique and immutable.\n",
    "\n",
    "Dictionaries have many useful methods and properties."
   ]
  },
  {
   "cell_type": "code",
   "execution_count": 25,
   "id": "dict-demo",
   "metadata": {},
   "outputs": [
    {
     "name": "stdout",
     "output_type": "stream",
     "text": [
      "Person: {'name': 'Alice', 'age': 25, 'is_student': True}\n",
      "Name: Alice\n",
      "Updated person: {'name': 'Alice', 'age': 25, 'is_student': True, 'city': 'Paris'}\n"
     ]
    }
   ],
   "source": [
    "# Creating and accessing a dictionary\n",
    "person = {\n",
    "    \"name\": \"Alice\",\n",
    "    \"age\": 25,\n",
    "    \"is_student\": True\n",
    "}\n",
    "print(\"Person:\", person)\n",
    "print(\"Name:\", person[\"name\"])\n",
    "person[\"city\"] = \"Paris\"\n",
    "print(\"Updated person:\", person)"
   ]
  },
  {
   "cell_type": "code",
   "execution_count": 26,
   "id": "dict-get-method",
   "metadata": {},
   "outputs": [
    {
     "name": "stdout",
     "output_type": "stream",
     "text": [
      "25\n",
      "Not specified\n"
     ]
    }
   ],
   "source": [
    "# Using get() to safely access a key\n",
    "print(person.get(\"age\"))\n",
    "print(person.get(\"country\", \"Not specified\"))"
   ]
  },
  {
   "cell_type": "code",
   "execution_count": 27,
   "id": "dict-keys-method",
   "metadata": {},
   "outputs": [
    {
     "name": "stdout",
     "output_type": "stream",
     "text": [
      "dict_keys(['name', 'age', 'is_student', 'city'])\n"
     ]
    }
   ],
   "source": [
    "# Getting all keys\n",
    "print(person.keys())"
   ]
  },
  {
   "cell_type": "code",
   "execution_count": 28,
   "id": "dict-values-method",
   "metadata": {},
   "outputs": [
    {
     "name": "stdout",
     "output_type": "stream",
     "text": [
      "dict_values(['Alice', 25, True, 'Paris'])\n"
     ]
    }
   ],
   "source": [
    "# Getting all values\n",
    "print(person.values())"
   ]
  },
  {
   "cell_type": "code",
   "execution_count": 29,
   "id": "dict-items-method",
   "metadata": {},
   "outputs": [
    {
     "name": "stdout",
     "output_type": "stream",
     "text": [
      "dict_items([('name', 'Alice'), ('age', 25), ('is_student', True), ('city', 'Paris')])\n"
     ]
    }
   ],
   "source": [
    "# Getting all key-value pairs\n",
    "print(person.items())"
   ]
  },
  {
   "cell_type": "code",
   "execution_count": 30,
   "id": "dict-pop-method",
   "metadata": {},
   "outputs": [
    {
     "name": "stdout",
     "output_type": "stream",
     "text": [
      "Removed city: Paris\n",
      "Updated person: {'name': 'Alice', 'age': 25, 'is_student': True}\n"
     ]
    }
   ],
   "source": [
    "# Removing a key-value pair with pop()\n",
    "removed_value = person.pop(\"city\")\n",
    "print(\"Removed city:\", removed_value)\n",
    "print(\"Updated person:\", person)"
   ]
  },
  {
   "cell_type": "code",
   "execution_count": 32,
   "id": "dict-update-method",
   "metadata": {},
   "outputs": [
    {
     "name": "stdout",
     "output_type": "stream",
     "text": [
      "Updated person: {'name': 'Alice', 'age': 26, 'is_student': True, 'country': 'Mexico'}\n"
     ]
    }
   ],
   "source": [
    "# Updating multiple values with update()\n",
    "person.update({\"age\": 26, \"country\": \"France\"})\n",
    "person[\"country\"] = \"Mexico\"\n",
    "print(\"Updated person:\", person)"
   ]
  },
  {
   "cell_type": "markdown",
   "id": "tuple-types",
   "metadata": {},
   "source": [
    "### Tuple\n",
    "\n",
    "A tuple is like a list, but immutable (cannot be changed).\n",
    "\n",
    "Tuples are useful for grouping related data. They support many useful methods and properties."
   ]
  },
  {
   "cell_type": "code",
   "execution_count": null,
   "id": "tuple-demo",
   "metadata": {},
   "outputs": [],
   "source": [
    "# Creating and accessing a tuple\n",
    "coordinates = (10.0, 20.0)\n",
    "print(coordinates)\n",
    "print(coordinates[0])  # Access by index"
   ]
  },
  {
   "cell_type": "code",
   "execution_count": null,
   "id": "tuple-len",
   "metadata": {},
   "outputs": [],
   "source": [
    "# Getting the length of a tuple\n",
    "colors = (\"red\", \"green\", \"blue\")\n",
    "print(len(colors))"
   ]
  },
  {
   "cell_type": "code",
   "execution_count": null,
   "id": "tuple-count",
   "metadata": {},
   "outputs": [],
   "source": [
    "# Using count() method\n",
    "numbers = (1, 2, 2, 3, 2, 4)\n",
    "print(numbers.count(2))  # How many times does 2 appear?"
   ]
  },
  {
   "cell_type": "code",
   "execution_count": null,
   "id": "tuple-index",
   "metadata": {},
   "outputs": [],
   "source": [
    "# Using index() method\n",
    "fruits = (\"apple\", \"banana\", \"cherry\")\n",
    "print(fruits.index(\"banana\"))  # Find the index of 'banana'"
   ]
  },
  {
   "cell_type": "code",
   "execution_count": null,
   "id": "tuple-unpacking",
   "metadata": {},
   "outputs": [],
   "source": [
    "# Tuple unpacking\n",
    "point = (3, 4)\n",
    "x, y = point\n",
    "print(\"x:\", x, \"y:\", y)"
   ]
  },
  {
   "cell_type": "code",
   "execution_count": null,
   "id": "tuple-nesting",
   "metadata": {},
   "outputs": [],
   "source": [
    "# Nested tuples\n",
    "person = (\"Alice\", (1990, 5, 15))\n",
    "print(person[0])  # Name\n",
    "print(person[1][0])  # Year of birth"
   ]
  },
  {
   "cell_type": "markdown",
   "id": "set-types",
   "metadata": {},
   "source": [
    "### Set\n",
    "\n",
    "A set is an unordered collection of unique items.\n",
    "\n",
    "Sets are useful for removing duplicates and for set operations like union, intersection, and difference.\n",
    "\n",
    "Let's look at some examples of sets and their methods:"
   ]
  },
  {
   "cell_type": "code",
   "execution_count": null,
   "id": "set-demo",
   "metadata": {},
   "outputs": [],
   "source": [
    "# Creating a set (duplicates are removed)\n",
    "unique_numbers = {1, 2, 3, 2, 1}\n",
    "print(unique_numbers)  # Output: {1, 2, 3}"
   ]
  },
  {
   "cell_type": "code",
   "execution_count": null,
   "id": "set-add",
   "metadata": {},
   "outputs": [],
   "source": [
    "# Adding an item to a set\n",
    "unique_numbers.add(4)\n",
    "print(unique_numbers)  # Output: {1, 2, 3, 4}"
   ]
  },
  {
   "cell_type": "code",
   "execution_count": null,
   "id": "set-remove",
   "metadata": {},
   "outputs": [],
   "source": [
    "# Removing an item from a set (raises error if not found)\n",
    "unique_numbers.remove(2)\n",
    "print(unique_numbers)  # Output: {1, 3, 4}"
   ]
  },
  {
   "cell_type": "code",
   "execution_count": null,
   "id": "set-discard",
   "metadata": {},
   "outputs": [],
   "source": [
    "# Discarding an item (no error if not found)\n",
    "unique_numbers.discard(10)  # Does nothing, no error\n",
    "print(unique_numbers)"
   ]
  },
  {
   "cell_type": "code",
   "execution_count": null,
   "id": "set-len",
   "metadata": {},
   "outputs": [],
   "source": [
    "# Getting the number of items in a set\n",
    "print(len(unique_numbers))"
   ]
  },
  {
   "cell_type": "code",
   "execution_count": null,
   "id": "set-union",
   "metadata": {},
   "outputs": [],
   "source": [
    "# Union of two sets\n",
    "a = {1, 2, 3}\n",
    "b = {3, 4, 5}\n",
    "print(a.union(b))  # Output: {1, 2, 3, 4, 5}"
   ]
  },
  {
   "cell_type": "code",
   "execution_count": null,
   "id": "set-intersection",
   "metadata": {},
   "outputs": [],
   "source": [
    "# Intersection of two sets\n",
    "print(a.intersection(b))  # Output: {3}"
   ]
  },
  {
   "cell_type": "code",
   "execution_count": null,
   "id": "set-difference",
   "metadata": {},
   "outputs": [],
   "source": [
    "# Difference of two sets\n",
    "print(a.difference(b))  # Output: {1, 2}"
   ]
  },
  {
   "cell_type": "code",
   "execution_count": null,
   "id": "set-clear",
   "metadata": {},
   "outputs": [],
   "source": [
    "# Clearing all items from a set\n",
    "a.clear()\n",
    "print(a)  # Output: set()"
   ]
  },
  {
   "cell_type": "markdown",
   "id": "6b2ff450",
   "metadata": {},
   "source": [
    "## Operators in Python: Meaning Depends on Data Type\n",
    "\n",
    "Python's operators can behave differently depending on the data types involved. Let's review the most common operators and see how they work with numbers, strings, lists, sets, and dictionaries.\n",
    "\n",
    "| Operator | Numbers | Strings | Lists | Sets | Dicts (Python 3.5+) |\n",
    "|----------|---------|---------|-------|------|---------------------|\n",
    "| `+`      | Addition (`a + b`) | Concatenation (`'a' + 'b'`) | Concatenation (`[1]+[2]`) | N/A | N/A |\n",
    "| `-`      | Subtraction (`a - b`) | N/A | N/A | Difference (`a - b`) | N/A |\n",
    "| `*`      | Multiplication (`a * b`) | Repeat (`'a'*3`) | Repeat (`[1]*3`) | N/A | N/A |\n",
    "| `/`      | Division (`a / b`) | N/A | N/A | N/A | N/A |\n",
    "| `//`     | Floor Division (`a // b`) | N/A | N/A | N/A | N/A |\n",
    "| `%`      | Modulo (`a % b`) | N/A | N/A | N/A | N/A |\n",
    "| `**`     | Power (`a ** b`) | N/A | N/A | N/A | Unpack (`{**d1, **d2}`) |\n",
    "| &#124;      | N/A | N/A | N/A | Union (a &#124; b) | Merge (d1 &#124; d2) |\n",
    "\n",
    "Let's see some examples for each:"
   ]
  },
  {
   "cell_type": "code",
   "execution_count": null,
   "id": "op-numbers",
   "metadata": {},
   "outputs": [],
   "source": [
    "# Numbers\n",
    "a = 10\n",
    "b = 3\n",
    "print('a + b =', a + b)    # Addition\n",
    "print('a - b =', a - b)    # Subtraction\n",
    "print('a * b =', a * b)    # Multiplication\n",
    "print('a / b =', a / b)    # Division (float)\n",
    "print('a // b =', a // b)  # Floor division\n",
    "print('a % b =', a % b)    # Modulo\n",
    "print('a ** b =', a ** b)  # Power"
   ]
  },
  {
   "cell_type": "code",
   "execution_count": null,
   "id": "op-strings",
   "metadata": {},
   "outputs": [],
   "source": [
    "# Strings\n",
    "s1 = 'Hello'\n",
    "s2 = 'World'\n",
    "print(s1 + ' ' + s2)      # Concatenation\n",
    "print(s1 * 3)             # Repeat"
   ]
  },
  {
   "cell_type": "code",
   "execution_count": null,
   "id": "op-lists",
   "metadata": {},
   "outputs": [],
   "source": [
    "# Lists\n",
    "l1 = [1, 2]\n",
    "l2 = [3, 4]\n",
    "print(l1 + l2)            # Concatenation\n",
    "print(l1 * 2)             # Repeat"
   ]
  },
  {
   "cell_type": "code",
   "execution_count": null,
   "id": "op-sets",
   "metadata": {},
   "outputs": [],
   "source": [
    "# Sets\n",
    "s1 = {1, 2, 3}\n",
    "s2 = {3, 4, 5}\n",
    "print(s1 | s2)            # Union\n",
    "print(s1 - s2)            # Difference"
   ]
  },
  {
   "cell_type": "code",
   "execution_count": null,
   "id": "op-dicts",
   "metadata": {},
   "outputs": [],
   "source": [
    "# Dictionaries\n",
    "d1 = {'a': 1, 'b': 2}\n",
    "d2 = {'b': 3, 'c': 4}\n",
    "merged = {**d1, **d2}\n",
    "print(\"Unpack and merge:\", merged)\n",
    "print(\"Union:\", d1 | d2)"
   ]
  },
  {
   "cell_type": "markdown",
   "id": "op-summary-note",
   "metadata": {},
   "source": [
    "**Note:** Not all operators are valid for all data types. Using an operator with unsupported types will raise a `TypeError`."
   ]
  },
  {
   "cell_type": "markdown",
   "id": "exercises",
   "metadata": {},
   "source": [
    "## 📝 Exercises\n",
    "\n",
    "Challenge yourself with these exercises. Each exercise is followed by a code cell for you to try your solution."
   ]
  },
  {
   "cell_type": "markdown",
   "id": "ex-challenge-operators-md",
   "metadata": {},
   "source": [
    "### 0. Challenging Operator Puzzle\n",
    "- Without using loops, if statements, or functions, and using only operators and expressions, combine the following data:\n",
    "\n",
    "    - `nums = [1, 2, 3]`\n",
    "    - `letters = ['a', 'b', 'c']`\n",
    "    - `extras = [4, 5]`\n",
    "\n",
    "- Create a single list that contains all numbers (from `nums` and `extras`) **followed by** all letters repeated twice (i.e., `['a', 'b', 'c', 'a', 'b', 'c']`).\n",
    "- Print the resulting list.\n",
    "\n",
    "*Hint: Think about how to use list concatenation and repetition operators together in a single expression.*"
   ]
  },
  {
   "cell_type": "code",
   "execution_count": null,
   "id": "ex-challenge-operators",
   "metadata": {},
   "outputs": [],
   "source": [
    "# Your code here\n",
    "nums = [1, 2, 3]\n",
    "letters = ['a', 'b', 'c']\n",
    "extras = [4, 5]\n",
    "# Combine and print as described"
   ]
  },
  {
   "cell_type": "markdown",
   "id": "ex1-adv-unpack-md",
   "metadata": {},
   "source": [
    "### 1. Advanced Unpacking\n",
    "- Given the tuple `data = (\"John\", \"Doe\", 1995, \"Engineer\", 1.82)`, unpack the values so that you get the first name, last name, and profession in separate variables, and ignore the year and height. Print the unpacked variables."
   ]
  },
  {
   "cell_type": "code",
   "execution_count": null,
   "id": "ex1-adv-unpack",
   "metadata": {},
   "outputs": [],
   "source": [
    "# Your code here\n",
    "data = (\"John\", \"Doe\", 1995, \"Engineer\", 1.82)\n",
    "# Unpack and print"
   ]
  },
  {
   "cell_type": "markdown",
   "id": "ex2-list-manip-md",
   "metadata": {},
   "source": [
    "### 2. List Manipulation\n",
    "- Start with the list `numbers = [5, 2, 9, 1, 5, 6]`.\n",
    "- Remove all duplicate values from the list (without using loops or comprehensions).\n",
    "- Sort the resulting list in descending order and print it."
   ]
  },
  {
   "cell_type": "code",
   "execution_count": null,
   "id": "ex2-list-manip",
   "metadata": {},
   "outputs": [],
   "source": [
    "# Your code here\n",
    "numbers = [5, 2, 9, 1, 5, 6]\n",
    "# Remove duplicates, sort descending, and print"
   ]
  },
  {
   "cell_type": "markdown",
   "id": "ex3-dict-update-md",
   "metadata": {},
   "source": [
    "### 3. Dictionary Update and Access\n",
    "- Create a dictionary `student` with keys: `name`, `grades` (a list of numbers), and `active` (a boolean).\n",
    "- Add a new key `average` to the dictionary, whose value is the average of the grades (use only expressions, not loops or functions).\n",
    "- Print the updated dictionary."
   ]
  },
  {
   "cell_type": "code",
   "execution_count": null,
   "id": "ex3-dict-update",
   "metadata": {},
   "outputs": [],
   "source": [
    "# Your code here\n",
    "student = {\n",
    "    # Fill in the keys and values\n",
    "}\n",
    "# Add average and print"
   ]
  },
  {
   "cell_type": "markdown",
   "id": "ex4-tuple-set-md",
   "metadata": {},
   "source": [
    "### 4. Tuple and Set Operations\n",
    "- Given `\"red\", \"green\", \"blue\", \"green\", \"red\"`, put them into a set and print the number of unique colors.\n",
    "- Then, create another set `color_set2 = {\"red\", \"blue\", \"yellow\"}` and print the intersection of the two sets."
   ]
  },
  {
   "cell_type": "code",
   "execution_count": null,
   "id": "ex4-tuple-set",
   "metadata": {},
   "outputs": [],
   "source": [
    "# Your code here\n",
    "#color_set1 = {...}\n",
    "color_set2 = {\"red\", \"blue\", \"yellow\"}\n",
    "# Convert, count, and print intersection"
   ]
  },
  {
   "cell_type": "markdown",
   "id": "ex5-dict-keyval-md",
   "metadata": {},
   "source": [
    "### 5. Dictionary Key-Value Extraction\n",
    "- Given the dictionary `info = {\"city\": \"Paris\", \"country\": \"France\", \"population\": 2_140_000}`\n",
    "- Unpack the keys and values into two separate tuples (one for keys, one for values) and print them."
   ]
  },
  {
   "cell_type": "code",
   "execution_count": null,
   "id": "ex5-dict-keyval",
   "metadata": {},
   "outputs": [],
   "source": [
    "# Your code here\n",
    "info = {\"city\": \"Paris\", \"country\": \"France\", \"population\": 2_140_000}\n",
    "# Unpack and print"
   ]
  },
  {
   "cell_type": "markdown",
   "id": "ex6-chained-assign-md",
   "metadata": {},
   "source": [
    "### 6. Chained Assignment and Augmented Assignment\n",
    "- Assign the value 100 to three variables `a`, `b`, and `c` in a single line.\n",
    "- Then, increase `a` by 50 using augmented assignment, and print all three variables."
   ]
  },
  {
   "cell_type": "code",
   "execution_count": null,
   "id": "ex6-chained-assign",
   "metadata": {},
   "outputs": [],
   "source": [
    "# Your code here\n",
    "# Assign and augment, then print"
   ]
  }
 ],
 "metadata": {
  "kernelspec": {
   "display_name": "python-workshop",
   "language": "python",
   "name": "python3"
  },
  "language_info": {
   "codemirror_mode": {
    "name": "ipython",
    "version": 3
   },
   "file_extension": ".py",
   "mimetype": "text/x-python",
   "name": "python",
   "nbconvert_exporter": "python",
   "pygments_lexer": "ipython3",
   "version": "3.11.11"
  }
 },
 "nbformat": 4,
 "nbformat_minor": 5
}

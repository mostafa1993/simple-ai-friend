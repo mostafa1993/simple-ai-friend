{
 "cells": [
  {
   "cell_type": "markdown",
   "id": "35bcbcab",
   "metadata": {},
   "source": [
    "# 12 – UI Polish: Colors & UX\n",
    "Let's make the terminal experience friendlier.\n",
    "## ✅ Goals\n",
    "- Use ANSI colors via our `Color` class\n",
    "- Optional: add a loading spinner\n",
    "- Encourage personalization"
   ]
  },
  {
   "cell_type": "markdown",
   "id": "e0147d27",
   "metadata": {},
   "source": [
    "### 🎨 Using `Color`"
   ]
  },
  {
   "cell_type": "code",
   "execution_count": null,
   "id": "cd09f952",
   "metadata": {},
   "outputs": [],
   "source": [
    "from chatbot.colors import Color\n",
    "c = Color()\n",
    "print(c.cyan('System message', bold=True))\n",
    "print(c.blue('User:'), 'Hello')\n",
    "print(c.magenta('Assistant:'), 'Hi there!')"
   ]
  },
  {
   "cell_type": "markdown",
   "id": "1945dc1a",
   "metadata": {},
   "source": [
    "### 📝 Exercise\n",
    "Add color output to the rule‑based chatbot from notebook 09."
   ]
  }
 ],
 "metadata": {
  "language_info": {
   "name": "python"
  }
 },
 "nbformat": 4,
 "nbformat_minor": 5
}

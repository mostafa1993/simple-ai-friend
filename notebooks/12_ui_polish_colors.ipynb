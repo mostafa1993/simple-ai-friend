{
 "cells": [
  {
   "cell_type": "markdown",
   "id": "35bcbcab",
   "metadata": {},
   "source": [
    "# 12 – UI Polish: Colors & UX\n",
    "Let's make the terminal experience friendlier.\n",
    "## ✅ Goals\n",
    "- Use ANSI colors via our `Color` class\n",
    "- Optional: add a loading spinner\n",
    "- Encourage personalization"
   ]
  },
  {
   "cell_type": "markdown",
   "id": "e0147d27",
   "metadata": {},
   "source": [
    "### 🎨 Using `Color`"
   ]
  },
  {
   "cell_type": "code",
   "execution_count": null,
   "id": "cd09f952",
   "metadata": {},
   "outputs": [],
   "source": [
    "from chatbot.colors import Color\n",
    "c = Color()\n",
    "print(c.cyan('System message', bold=True))\n",
    "print(c.blue('User:'), 'Hello')\n",
    "print(c.magenta('Assistant:'), 'Hi there!')"
   ]
  },
  {
   "cell_type": "markdown",
   "id": "99ca9af4",
   "metadata": {},
   "source": [
    "### ⌛ Spinner (Optional UX)"
   ]
  },
  {
   "cell_type": "code",
   "execution_count": null,
   "id": "f8638838",
   "metadata": {},
   "outputs": [],
   "source": [
    "import time, itertools, sys\n",
    "\n",
    "def spinner(seconds=2):\n",
    "    for ch in itertools.cycle('|/-\\\\'):\n",
    "        sys.stdout.write(f'\\rThinking {ch}')\n",
    "        sys.stdout.flush()\n",
    "        time.sleep(0.1)\n",
    "        seconds -= 0.1\n",
    "        if seconds <= 0:\n",
    "            break\n",
    "    sys.stdout.write('\\r' + ' '*15 + '\\r')\n",
    "\n",
    "spinner()"
   ]
  },
  {
   "cell_type": "markdown",
   "id": "1945dc1a",
   "metadata": {},
   "source": [
    "### 📝 Exercise\n",
    "Add color output to the rule‑based chatbot from notebook 09."
   ]
  }
 ],
 "metadata": {},
 "nbformat": 4,
 "nbformat_minor": 5
}

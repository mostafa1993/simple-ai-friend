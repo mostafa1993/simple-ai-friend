{
 "cells": [
  {
   "cell_type": "markdown",
   "id": "62917c9c",
   "metadata": {},
   "source": [
    "# 00 - Getting Started\n",
    "\n",
    "Welcome to the Simple AI Assistant Workshop! 🎉\n",
    "\n",
    "## ✅ Goals\n",
    "- Set up your Python development environment using Miniconda (install Python 3.11 via a new conda environment)\n",
    "- Download and extract the workshop repository from GitHub\n",
    "- Install Visual Studio Code and essential extensions (Python, Jupyter)\n",
    "- Configure VS Code to use the correct Python environment\n",
    "- Install Jupyter Notebook and launch it\n",
    "- Run your first Python code cell in a Jupyter Notebook\n"
   ]
  },
  {
   "cell_type": "markdown",
   "id": "e3273e83",
   "metadata": {},
   "source": [
    "## 🔧 Step 1: Install Anaconda (Miniconda version)\n",
    "Download Miniconda from: https://www.anaconda.com/download/success\n",
    "\n",
    "Install it with below settings:\n",
    "- Create shortcuts\n",
    "- Add to PATH\n",
    "- Register Miniconda as my defualt Python\n",
    "- Clear the package cache upon completion\n",
    "\n",
    "Open **Windows PowerShell** and run below command to create a new conda environment:\n",
    "```sh\n",
    "conda create -n python-workshop python=3.11 -y\n",
    "```"
   ]
  },
  {
   "cell_type": "markdown",
   "id": "download-repo",
   "metadata": {},
   "source": [
    "## 📥 Step 2: Download and Extract the Repository\n",
    "Download the workshop repository from below URL:\n",
    "\n",
    "https://github.com/mostafa1993/simple-ai-friend/archive/refs/heads/session-1.zip\n",
    "\n",
    "After downloading, right-click on the ZIP file and select the extract option to unzip the repository contents."
   ]
  },
  {
   "cell_type": "markdown",
   "id": "ffffe1f2",
   "metadata": {},
   "source": [
    "## 🛠️ Step 3: Install VS Code\n",
    "Go to Microsft Store and install **Visual Studio Code**\n",
    "\n",
    "Then open the VS Code and install below extensions:\n",
    "- Python\n",
    "- Jupyter\n",
    "\n",
    "On bottom right, click on **Select Interpreter** and choose the conda environment we created (`python-workshop`)"
   ]
  },
  {
   "cell_type": "markdown",
   "id": "f00f7933",
   "metadata": {},
   "source": [
    "## 📦 Step 4: Install Jupyter\n",
    "Open a terminal or command prompt and run:\n",
    "\n",
    "```bash\n",
    "pip install notebook\n",
    "```\n",
    "Then start Jupyter with (Optional, you can use VS Code to start Jupyter):\n",
    "\n",
    "```bash\n",
    "jupyter notebook\n",
    "```"
   ]
  },
  {
   "cell_type": "markdown",
   "id": "860dea16",
   "metadata": {},
   "source": [
    "## 🚀 Step 5: Run Your First Code Cell\n",
    "Click into the cell below and press **Shift+Enter** to run it."
   ]
  },
  {
   "cell_type": "code",
   "execution_count": null,
   "id": "ae3089a5",
   "metadata": {},
   "outputs": [],
   "source": [
    "print(\"Hello, world! 🎉\")"
   ]
  }
 ],
 "metadata": {
  "kernelspec": {
   "display_name": "python-workshop",
   "language": "python",
   "name": "python3"
  },
  "language_info": {
   "codemirror_mode": {
    "name": "ipython",
    "version": 3
   },
   "file_extension": ".py",
   "mimetype": "text/x-python",
   "name": "python",
   "nbconvert_exporter": "python",
   "pygments_lexer": "ipython3",
   "version": "3.11.11"
  }
 },
 "nbformat": 4,
 "nbformat_minor": 5
}

{
 "cells": [
  {
   "cell_type": "markdown",
   "id": "title",
   "metadata": {},
   "source": [
    "# 03 - Conditionals in Python\n",
    "\n",
    "In this notebook, you'll learn how to use `if`, `elif`, and `else` statements to control the flow of your programs. We'll cover the most common patterns, show you practical examples, and give you exercises to practice at the end.\n",
    "\n",
    "By the end of this session, you should be able to:\n",
    "- Write basic and nested `if` statements\n",
    "- Use logical operators (`and`, `or`, `not`, `is`, `in`, etc.)\n",
    "- Perform membership and type checks\n",
    "- Use the ternary (inline if) operator\n",
    "- Understand how to check for `None`\n",
    "\n",
    "Let's get started!"
   ]
  },
  {
   "cell_type": "markdown",
   "id": "if-elif-else",
   "metadata": {},
   "source": [
    "## 1. Basic if / elif / else\n",
    "\n",
    "The `if` statement lets you run code only if a condition is true. You can use `elif` (else if) and `else` to check multiple conditions."
   ]
  },
  {
   "cell_type": "code",
   "execution_count": null,
   "id": "basic-if",
   "metadata": {},
   "outputs": [],
   "source": [
    "# Example: Grading logic\n",
    "score = int(input(\"Enter score: \"))  # Try entering 100, 95, 85, or 50\n",
    "if score == 100:\n",
    "    print(\"Perfect Score!\")\n",
    "elif score >= 90:\n",
    "    print(\"A\")\n",
    "elif score != 0 and score >= 80:\n",
    "    print(\"B\")\n",
    "else:\n",
    "    print(\"Needs Improvement\")"
   ]
  },
  {
   "cell_type": "markdown",
   "id": "input-validation",
   "metadata": {},
   "source": [
    "### Input Validation (with try/except)\n",
    "\n",
    "It's good practice to check if the user entered a valid number. Let's see how to do that with a `try/except` block."
   ]
  },
  {
   "cell_type": "code",
   "execution_count": null,
   "id": "basic-if-try",
   "metadata": {},
   "outputs": [],
   "source": [
    "# Example: Grading logic with input validation\n",
    "try:\n",
    "    score = int(input(\"Enter score: \"))\n",
    "    if score == 100:\n",
    "        print(\"Perfect Score!\")\n",
    "    elif score >= 90:\n",
    "        print(\"A\")\n",
    "    elif score != 0 and score >= 80:\n",
    "        print(\"B\")\n",
    "    else:\n",
    "        print(\"Needs Improvement\")\n",
    "except ValueError:\n",
    "    print(\"Invalid input: Please enter a valid integer score.\")"
   ]
  },
  {
   "cell_type": "markdown",
   "id": "inline-if",
   "metadata": {},
   "source": [
    "## 2. Inline if (Ternary Operator)\n",
    "\n",
    "You can write simple `if/else` logic in a single line using the ternary operator. This is useful for quick assignments."
   ]
  },
  {
   "cell_type": "code",
   "execution_count": null,
   "id": "ternary",
   "metadata": {},
   "outputs": [],
   "source": [
    "# Example: Even/Odd check using ==\n",
    "x = 10\n",
    "result = \"Even\" if x % 2 == 0 else \"Odd\"\n",
    "print(result)\n",
    "\n",
    "# Example: Explicit not in ternary\n",
    "y = None\n",
    "msg = \"Value is None\" if y is None else \"Value is not None\"\n",
    "print(msg)"
   ]
  },
  {
   "cell_type": "markdown",
   "id": "one-line-assign",
   "metadata": {},
   "source": [
    "## 3. One-line Conditional Assignment\n",
    "\n",
    "You can use the ternary operator to assign values based on a condition."
   ]
  },
  {
   "cell_type": "code",
   "execution_count": null,
   "id": "one-line-assign-code",
   "metadata": {},
   "outputs": [],
   "source": [
    "# Example: Using not in a one-line assignment\n",
    "temperature = 30\n",
    "status = 'Hot' if not temperature <= 25 else 'Cool'\n",
    "print(f'Temperature Status: {status}')\n",
    "\n",
    "# Example: Using is not\n",
    "user = None\n",
    "user_status = 'No user' if user is None else 'User exists'\n",
    "print(user_status)"
   ]
  },
  {
   "cell_type": "markdown",
   "id": "nested-if",
   "metadata": {},
   "source": [
    "## 4. Nested if statements\n",
    "\n",
    "You can put one `if` statement inside another. This is called nesting. It's useful for checking multiple related conditions."
   ]
  },
  {
   "cell_type": "code",
   "execution_count": null,
   "id": "nested",
   "metadata": {},
   "outputs": [],
   "source": [
    "# Example: Nested if\n",
    "x = int(input(\"Enter a number: \"))\n",
    "if x > 0:\n",
    "    if x % 2 == 0:\n",
    "        print(\"Positive Even\")\n",
    "    else:\n",
    "        print(\"Positive Odd\")\n",
    "elif x == 0:\n",
    "    print(\"Zero\")\n",
    "else:\n",
    "    print(\"Negative\")"
   ]
  },
  {
   "cell_type": "markdown",
   "id": "logical-operators",
   "metadata": {},
   "source": [
    "## 5. if with logical operators (and / or / not / is / is not / == / !=)\n",
    "\n",
    "You can combine conditions using logical operators. This helps you check for more complex situations."
   ]
  },
  {
   "cell_type": "code",
   "execution_count": null,
   "id": "logic-if",
   "metadata": {},
   "outputs": [],
   "source": [
    "# Example: Logical operators\n",
    "age = int(input(\"Enter your age: \"))\n",
    "if age > 12 and age < 20:\n",
    "    print(\"Teenager\")\n",
    "elif age < 13 or age > 60:\n",
    "    print(\"Child or Senior\")\n",
    "elif age == 42:\n",
    "    print(\"The Answer to Life, the Universe, and Everything!\")\n",
    "else:\n",
    "    print(\"Adult\")"
   ]
  },
  {
   "cell_type": "markdown",
   "id": "membership-test",
   "metadata": {},
   "source": [
    "## 6. if with `in`, `not in`, and explicit not\n",
    "\n",
    "You can check if a value is in a collection (like a string or list) using `in` and `not in`."
   ]
  },
  {
   "cell_type": "code",
   "execution_count": null,
   "id": "in-check",
   "metadata": {},
   "outputs": [],
   "source": [
    "# Example: Membership and not in\n",
    "vowels = 'aeiou'\n",
    "char = input(\"Enter a letter: \").lower()\n",
    "if len(char) == 1 and char.isalpha():\n",
    "    if char in vowels:\n",
    "        print(\"Vowel\")\n",
    "    else:\n",
    "        print(\"Consonant\")\n",
    "else:\n",
    "    print(\"Not a letter\")"
   ]
  },
  {
   "cell_type": "markdown",
   "id": "none-check",
   "metadata": {},
   "source": [
    "## 7. Checking for None and using is / is not\n",
    "\n",
    "`None` is a special value in Python. Use `is` and `is not` to check for it. You can also check types using `isinstance`."
   ]
  },
  {
   "cell_type": "code",
   "execution_count": null,
   "id": "none-check-code",
   "metadata": {},
   "outputs": [],
   "source": [
    "# Example: None checks and type checks\n",
    "value = None\n",
    "if value is None:\n",
    "    print(\"Value is None\")\n",
    "else:\n",
    "    print(\"Value is not None\")\n",
    "\n",
    "another = 0\n",
    "if another is not None:\n",
    "    print(\"another is not None\")\n",
    "\n",
    "# Example: Type checking with isinstance\n",
    "test_val = \"123\"\n",
    "if isinstance(test_val, str):\n",
    "    print(\"test_val is a string\")\n",
    "else:\n",
    "    print(\"test_val is not a string\")"
   ]
  },
  {
   "cell_type": "markdown",
   "id": "challenge",
   "metadata": {},
   "source": [
    "## Challenge: Age Classifier (with input validation)\n",
    "\n",
    "Let's put it all together! This example uses a `try/except` block to validate input, and then uses `if/elif/else` to classify the age."
   ]
  },
  {
   "cell_type": "code",
   "execution_count": null,
   "id": "challenge-code",
   "metadata": {},
   "outputs": [],
   "source": [
    "# Age Classifier Example\n",
    "try:\n",
    "    age = int(input(\"Enter your age: \"))\n",
    "    if age < 0:\n",
    "        print(\"Invalid age\")\n",
    "    elif age == 0:\n",
    "        print(\"Newborn\")\n",
    "    elif age < 13:\n",
    "        print(\"Child\")\n",
    "    elif age < 20:\n",
    "        print(\"Teenager\")\n",
    "    elif age < 60:\n",
    "        print(\"Adult\")\n",
    "    else:\n",
    "        print(\"Senior\")\n",
    "except ValueError:\n",
    "    print(\"Invalid input: Please enter a valid integer for age.\")"
   ]
  },
  {
   "cell_type": "markdown",
   "id": "exercise-1-markdown",
   "metadata": {},
   "source": [
    "### Exercise 1: Even or Odd Checker\n",
    "\n",
    "Ask the user for a number and print whether it is even or odd."
   ]
  },
  {
   "cell_type": "code",
   "execution_count": null,
   "id": "exercise-1",
   "metadata": {},
   "outputs": [],
   "source": [
    "# Your code here\n"
   ]
  },
  {
   "cell_type": "markdown",
   "id": "exercise-2-markdown",
   "metadata": {},
   "source": [
    "### Exercise 2: Letter Grade\n",
    "\n",
    "Ask the user for a score (0-100) and print the letter grade (A, B, C, D, F) using if/elif/else.\n",
    "\n",
    "**Requirements:**\n",
    "- If the user enters a number less than 0 or greater than 100, print an error message.\n",
    "- If the user does not enter a valid number, print an error message."
   ]
  },
  {
   "cell_type": "code",
   "execution_count": null,
   "id": "exercise-2",
   "metadata": {},
   "outputs": [],
   "source": [
    "# Your code here\n"
   ]
  },
  {
   "cell_type": "markdown",
   "id": "exercise-3-markdown",
   "metadata": {},
   "source": [
    "### Exercise 3: Vowel or Consonant\n",
    "\n",
    "Ask the user for a single letter and print whether it is a vowel or consonant. If the input is not a single letter, print an error message."
   ]
  },
  {
   "cell_type": "code",
   "execution_count": null,
   "id": "exercise-3",
   "metadata": {},
   "outputs": [],
   "source": [
    "# Your code here\n"
   ]
  }
 ],
 "metadata": {
  "kernelspec": {
   "display_name": "Python 3",
   "language": "python",
   "name": "python3"
  },
  "language_info": {
   "name": "python",
   "version": "3.11"
  }
 },
 "nbformat": 4,
 "nbformat_minor": 5
}

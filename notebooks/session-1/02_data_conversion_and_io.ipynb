{
 "cells": [
  {
   "cell_type": "markdown",
   "id": "conversion-section",
   "metadata": {},
   "source": [
    "## 1. Data Type Conversion\n",
    "\n",
    "Python allows you to convert between different data types using built-in functions. This is called **type casting** or **type conversion**."
   ]
  },
  {
   "cell_type": "markdown",
   "id": "conv-int-float",
   "metadata": {},
   "source": [
    "### Convert `int` to `float` and vice versa"
   ]
  },
  {
   "cell_type": "code",
   "execution_count": null,
   "id": "conv-int-float-code",
   "metadata": {},
   "outputs": [],
   "source": [
    "a = 5\n",
    "b = float(a)\n",
    "print(b, type(b))  # Output: 5.0 <class 'float'>\n",
    "\n",
    "c = 3.7\n",
    "d = int(c)\n",
    "print(d, type(d))  # Output: 3 <class 'int'>"
   ]
  },
  {
   "cell_type": "markdown",
   "id": "conv-str-int-float",
   "metadata": {},
   "source": [
    "### Convert `str` to `int` and `float`"
   ]
  },
  {
   "cell_type": "code",
   "execution_count": null,
   "id": "conv-str-int-float-code",
   "metadata": {},
   "outputs": [],
   "source": [
    "s1 = \"42\"\n",
    "num1 = int(s1)\n",
    "print(num1, type(num1))  # Output: 42 <class 'int'>\n",
    "\n",
    "s2 = \"3.1415\"\n",
    "num2 = float(s2)\n",
    "print(num2, type(num2))  # Output: 3.1415 <class 'float'>"
   ]
  },
  {
   "cell_type": "markdown",
   "id": "conv-int-float-str",
   "metadata": {},
   "source": [
    "### Convert `int` and `float` to `str`"
   ]
  },
  {
   "cell_type": "code",
   "execution_count": null,
   "id": "conv-int-float-str-code",
   "metadata": {},
   "outputs": [],
   "source": [
    "n = 100\n",
    "s = str(n)\n",
    "print(s, type(s))  # Output: '100' <class 'str'>\n",
    "\n",
    "f = 2.718\n",
    "s2 = str(f)\n",
    "print(s2, type(s2))  # Output: '2.718' <class 'str'>"
   ]
  },
  {
   "cell_type": "markdown",
   "id": "conv-list-tuple-set",
   "metadata": {},
   "source": [
    "### Convert between `list`, `tuple`, and `set`"
   ]
  },
  {
   "cell_type": "code",
   "execution_count": null,
   "id": "conv-list-tuple-set-code",
   "metadata": {},
   "outputs": [],
   "source": [
    "lst = [1, 2, 3, 2]\n",
    "tpl = tuple(lst)\n",
    "st = set(lst)\n",
    "print(tpl, type(tpl))  # Output: (1, 2, 3, 2) <class 'tuple'>\n",
    "print(st, type(st))    # Output: {1, 2, 3} <class 'set'>"
   ]
  },
  {
   "cell_type": "markdown",
   "id": "conv-str-list",
   "metadata": {},
   "source": [
    "### Convert `str` to `list` and `list` to `str`"
   ]
  },
  {
   "cell_type": "code",
   "execution_count": null,
   "id": "conv-str-list-code",
   "metadata": {},
   "outputs": [],
   "source": [
    "s = \"hello\"\n",
    "lst = list(s)\n",
    "print(lst)  # Output: ['h', 'e', 'l', 'l', 'o']\n",
    "\n",
    "lst2 = ['P', 'y', 't', 'h', 'o', 'n']\n",
    "s2 = ''.join(lst2)\n",
    "print(s2)  # Output: Python"
   ]
  },
  {
   "cell_type": "markdown",
   "id": "conv-dict-list",
   "metadata": {},
   "source": [
    "### Convert `dict` to `list` of keys/values/items"
   ]
  },
  {
   "cell_type": "code",
   "execution_count": null,
   "id": "conv-dict-list-code",
   "metadata": {},
   "outputs": [],
   "source": [
    "d = {'name': 'Alice', 'age': 30, 'city': 'Paris'}\n",
    "keys = list(d.keys())\n",
    "values = list(d.values())\n",
    "items = list(d.items())\n",
    "print(keys)    # Output: ['name', 'age', 'city']\n",
    "print(values)  # Output: ['Alice', 30, 'Paris']\n",
    "print(items)   # Output: [('name', 'Alice'), ('age', 30), ('city', 'Paris')]"
   ]
  },
  {
   "cell_type": "markdown",
   "id": "conv-list-pairs-dict",
   "metadata": {},
   "source": [
    "### Convert a list of key-value pairs to a `dict`\n",
    "\n",
    "You can easily convert a list of key-value pairs (as tuples) into a dictionary using the built-in `dict()` constructor. If there are duplicate keys, the last value for that key will be used."
   ]
  },
  {
   "cell_type": "code",
   "execution_count": null,
   "id": "conv-list-pairs-dict-code",
   "metadata": {},
   "outputs": [],
   "source": [
    "pairs = [\n",
    "    (\"name\", \"Bob\"),\n",
    "    (\"age\", 25),\n",
    "    (\"city\", \"London\"),\n",
    "    (\"age\", 26)  # Duplicate key: 'age' will be 26 in the result\n",
    "]\n",
    "result = dict(pairs)\n",
    "print(result)  # Output: {'name': 'Bob', 'age': 26, 'city': 'London'}"
   ]
  },
  {
   "cell_type": "markdown",
   "id": "input-output-section",
   "metadata": {},
   "source": [
    "## 2. Input and Output\n",
    "\n",
    "Learn how to get input from the user and display output in various ways."
   ]
  },
  {
   "cell_type": "markdown",
   "id": "input-basic",
   "metadata": {},
   "source": [
    "### Basic `input()` and `print()`"
   ]
  },
  {
   "cell_type": "code",
   "execution_count": null,
   "id": "input-basic-code",
   "metadata": {},
   "outputs": [],
   "source": [
    "name = input(\"What is your name? \")\n",
    "print(\"Hello\", name + \"!\")"
   ]
  },
  {
   "cell_type": "markdown",
   "id": "input-convert",
   "metadata": {},
   "source": [
    "### Converting Input to Integer or Float"
   ]
  },
  {
   "cell_type": "code",
   "execution_count": null,
   "id": "input-convert-code",
   "metadata": {},
   "outputs": [],
   "source": [
    "age = int(input(\"How old are you? \"))\n",
    "print(\"Next year you will be\", age + 1)"
   ]
  },
  {
   "cell_type": "markdown",
   "id": "input-multiple",
   "metadata": {},
   "source": [
    "### Taking Multiple Inputs in One Line (using `split()`)"
   ]
  },
  {
   "cell_type": "code",
   "execution_count": null,
   "id": "input-multiple-code",
   "metadata": {},
   "outputs": [],
   "source": [
    "x, y = input(\"Enter two numbers separated by space: \").split()\n",
    "x = int(x)\n",
    "y = int(y)\n",
    "print(\"Sum:\", x + y)"
   ]
  },
  {
   "cell_type": "markdown",
   "id": "print-advanced",
   "metadata": {},
   "source": [
    "### Advanced `print()` Usage"
   ]
  },
  {
   "cell_type": "code",
   "execution_count": null,
   "id": "print-advanced-code",
   "metadata": {},
   "outputs": [],
   "source": [
    "print(\"Python\", \"is\", \"awesome\", sep=\"-\")  # Output: Python-is-awesome\n",
    "print(\"Hello\", end=\" \")\n",
    "print(\"World!\")  # Output: Hello World!"
   ]
  },
  {
   "cell_type": "markdown",
   "id": "tips-section",
   "metadata": {},
   "source": [
    "## 3. Tips and Common Pitfalls\n",
    "\n",
    "Some important tips and things to watch out for when working with input, output, and variables in Python."
   ]
  },
  {
   "cell_type": "markdown",
   "id": "tip-mutable-alias",
   "metadata": {},
   "source": [
    "### Assignment with Mutable Objects"
   ]
  },
  {
   "cell_type": "code",
   "execution_count": null,
   "id": "tip-mutable-alias-code",
   "metadata": {},
   "outputs": [],
   "source": [
    "a = [1, 2, 3]\n",
    "b = a\n",
    "b.append(4)\n",
    "print(a)  # Output: [1, 2, 3, 4] (a and b refer to the same list)"
   ]
  },
  {
   "cell_type": "markdown",
   "id": "tip-mutable-copy",
   "metadata": {},
   "source": [
    "### Copying Mutable Objects (to avoid shared references)"
   ]
  },
  {
   "cell_type": "code",
   "execution_count": null,
   "id": "tip-mutable-copy-code",
   "metadata": {},
   "outputs": [],
   "source": [
    "a = [1, 2, 3]\n",
    "b = a.copy()\n",
    "b.append(4)\n",
    "print(a)  # Output: [1, 2, 3]\n",
    "print(b)  # Output: [1, 2, 3, 4]"
   ]
  },
  {
   "cell_type": "markdown",
   "id": "tip-input-always-str",
   "metadata": {},
   "source": [
    "### `input()` Always Returns a String"
   ]
  },
  {
   "cell_type": "code",
   "execution_count": null,
   "id": "tip-input-always-str-code",
   "metadata": {},
   "outputs": [],
   "source": [
    "x = input(\"Enter a number: \")\n",
    "print(x, type(x))  # Even if you enter 123, type is <class 'str'>"
   ]
  },
  {
   "cell_type": "markdown",
   "id": "tip-str-literals",
   "metadata": {},
   "source": [
    "### String Literals: Single, Double, and Triple Quotes\n",
    "\n",
    "- You can use single quotes (`'...'`), double quotes (`\"...\"`), or triple quotes (`\"\"\"...\"\"\"` or `'''...'''`) for strings in Python.\n",
    "- Triple quotes allow multi-line strings.\n",
    "\n",
    "Examples:"
   ]
  },
  {
   "cell_type": "code",
   "execution_count": null,
   "id": "tip-str-literals-code",
   "metadata": {},
   "outputs": [],
   "source": [
    "s1 = 'Hello'\n",
    "s2 = \"World\"\n",
    "s3 = \"\"\"This is a\n",
    "multi-line string.\"\"\"\n",
    "print(s1)\n",
    "print(s2)\n",
    "print(s3)"
   ]
  },
  {
   "cell_type": "markdown",
   "id": "print-formatting",
   "metadata": {},
   "source": [
    "### String Formatting with `f-strings`"
   ]
  },
  {
   "cell_type": "code",
   "execution_count": null,
   "id": "print-formatting-code",
   "metadata": {},
   "outputs": [],
   "source": [
    "name = \"Alice\"\n",
    "score = 95.6789\n",
    "print(f\"{name} scored {score:.2f} marks.\")  # Output: Alice scored 95.68 marks."
   ]
  },
  {
   "cell_type": "markdown",
   "id": "print-escape",
   "metadata": {},
   "source": [
    "### Escape Characters in Strings"
   ]
  },
  {
   "cell_type": "code",
   "execution_count": null,
   "id": "print-escape-code",
   "metadata": {},
   "outputs": [],
   "source": [
    "print(\"Line1\\nLine2\\tTabbed\\nHe said: \\\"Hello!\\\"\")"
   ]
  },
  {
   "cell_type": "markdown",
   "id": "tip-str-formatting",
   "metadata": {},
   "source": [
    "### String Formatting: f-strings, `.format()`, and More\n",
    "\n",
    "- **f-strings** (Python 3.6+): Embed variables directly in strings with `f\"...\"`.\n",
    "- **`.format()`**: Insert values using `{}` placeholders.\n",
    "- **`.format()` with dictionaries**: Use named placeholders and pass a dictionary with `**`.\n",
    "- **`.format_map()`**: Similar to `.format()`, but takes a dictionary directly.\n",
    "\n",
    "Examples:"
   ]
  },
  {
   "cell_type": "code",
   "execution_count": null,
   "id": "tip-str-formatting-code",
   "metadata": {},
   "outputs": [],
   "source": [
    "name = \"Alice\"\n",
    "age = 30\n",
    "\n",
    "# f-string\n",
    "print(f\"Name: {name}, Age: {age}\")\n",
    "\n",
    "# .format()\n",
    "print(\"Name: {}, Age: {}\".format(name, age))\n",
    "\n",
    "# .format() with named placeholders\n",
    "print(\"Name: {n}, Age: {a}\".format(n=name, a=age))\n",
    "\n",
    "# .format() with a dictionary\n",
    "person = {\"name\": \"Bob\", \"age\": 22}\n",
    "print(\"Name: {name}, Age: {age}\".format(**person))\n",
    "\n",
    "# .format_map() with a dictionary\n",
    "print(\"Name: {name}, Age: {age}\".format_map(person))"
   ]
  },
  {
   "cell_type": "markdown",
   "id": "tip-str-color",
   "metadata": {},
   "source": [
    "### Colorful Strings in the Terminal\n",
    "\n",
    "You can print colored text in many terminals using ANSI escape codes. Here are examples for red, yellow, and blue:"
   ]
  },
  {
   "cell_type": "code",
   "execution_count": null,
   "id": "tip-str-color-code",
   "metadata": {},
   "outputs": [],
   "source": [
    "print(\"\\033[31mThis is red\\033[0m\")   # Red\n",
    "print(\"\\033[33mThis is yellow\\033[0m\") # Yellow\n",
    "print(\"\\033[34mThis is blue\\033[0m\")   # Blue"
   ]
  },
  {
   "cell_type": "markdown",
   "id": "tip-multi-assign",
   "metadata": {},
   "source": [
    "### Multiple Assignment and Unpacking"
   ]
  },
  {
   "cell_type": "code",
   "execution_count": null,
   "id": "tip-multi-assign-code",
   "metadata": {},
   "outputs": [],
   "source": [
    "a, b, c = 1, 2, 3\n",
    "print(a, b, c)  # Output: 1 2 3"
   ]
  },
  {
   "cell_type": "markdown",
   "id": "tip-strip",
   "metadata": {},
   "source": [
    "### Removing Whitespace from Input"
   ]
  },
  {
   "cell_type": "code",
   "execution_count": null,
   "id": "tip-strip-code",
   "metadata": {},
   "outputs": [],
   "source": [
    "s = input(\"Enter something with spaces: \")\n",
    "print(s.strip())  # Removes leading and trailing whitespace"
   ]
  }
 ],
 "metadata": {
  "kernelspec": {
   "display_name": "python-workshop",
   "language": "python",
   "name": "python3"
  },
  "language_info": {
   "codemirror_mode": {
    "name": "ipython",
    "version": 3
   },
   "file_extension": ".py",
   "mimetype": "text/x-python",
   "name": "python",
   "nbconvert_exporter": "python",
   "pygments_lexer": "ipython3",
   "version": "3.11.11"
  }
 },
 "nbformat": 4,
 "nbformat_minor": 5
}

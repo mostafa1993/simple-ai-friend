{
 "cells": [
  {
   "cell_type": "markdown",
   "id": "18e29fc4",
   "metadata": {},
   "source": [
    "### 🎬 Exercise 1: Movie Ticket Price Calculator\n",
    "\n",
    "Write a function that takes name and age as input (use input()) and returns the ticket price.\n",
    "\n",
    "Rules:\n",
    "- Under 5: Free\n",
    "- 5 to 17: $10\n",
    "- 18 to 59: $15\n",
    "- 60 and above: $12\n",
    "\n",
    "**Example:**\n",
    "```\n",
    "Enter your name: Alice\n",
    "Enter your age: 30\n",
    "Output: Hello Alice! Your ticket price is $15.\n",
    "```"
   ]
  },
  {
   "cell_type": "code",
   "execution_count": null,
   "id": "284443b4",
   "metadata": {},
   "outputs": [],
   "source": [
    "# Write a function for this exercise"
   ]
  },
  {
   "cell_type": "markdown",
   "id": "a09591e8",
   "metadata": {},
   "source": [
    "### 📚 Exercise 2: Simple Grader\n",
    "\n",
    "Ask user for their score out of 100.\n",
    "Write a function that returns the grade:\n",
    "\n",
    "- 90–100: A\n",
    "- 80–89: B\n",
    "- 70–79: C\n",
    "- 60–69: D\n",
    "- Below 60: F\n",
    "\n",
    "**Example:**\n",
    "```\n",
    "Enter your score: 85\n",
    "Output: You got a B.\n",
    "```"
   ]
  },
  {
   "cell_type": "code",
   "execution_count": null,
   "id": "3083877c",
   "metadata": {},
   "outputs": [],
   "source": [
    "# Write a function for this exercise"
   ]
  },
  {
   "cell_type": "markdown",
   "id": "9484a8aa",
   "metadata": {},
   "source": [
    "### 🌡️ Exercise 3: Temperature Converter with Category\n",
    "\n",
    "Ask the user for temperature in Celsius.\n",
    "Convert it to Fahrenheit.\n",
    "Then categorize the temperature:\n",
    "\n",
    "- Below 32: Freezing\n",
    "- 32 to 68: Cold\n",
    "- 69 to 86: Warm\n",
    "- Above 86: Hot\n",
    "\n",
    "**Write a function for this exercise.**\n",
    "\n",
    "**Example:**\n",
    "```\n",
    "It's 77.0°F – Warm\n",
    "```"
   ]
  },
  {
   "cell_type": "code",
   "execution_count": null,
   "id": "681ce842",
   "metadata": {},
   "outputs": [],
   "source": [
    "# Write a function for this exercise"
   ]
  },
  {
   "cell_type": "markdown",
   "id": "349c3492",
   "metadata": {},
   "source": [
    "### 🧍 Exercise 4: Basic BMI Calculator\n",
    "\n",
    "Ask user for weight (kg) and height (m).\n",
    "Calculate BMI using: weight / height²\n",
    "Then print the category:\n",
    "\n",
    "- Below 18.5: Underweight\n",
    "- 18.5–24.9: Normal\n",
    "- 25–29.9: Overweight\n",
    "- 30 and above: Obese\n",
    "\n",
    "**Write a function for this exercise.**"
   ]
  },
  {
   "cell_type": "code",
   "execution_count": null,
   "id": "87d3f7f6",
   "metadata": {},
   "outputs": [],
   "source": [
    "# Write a function for this exercise"
   ]
  }
 ],
 "metadata": {},
 "nbformat": 4,
 "nbformat_minor": 5
}

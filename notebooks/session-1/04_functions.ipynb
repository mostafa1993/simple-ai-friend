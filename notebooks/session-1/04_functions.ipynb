{
 "cells": [
  {
   "cell_type": "markdown",
   "id": "intro-functions",
   "metadata": {},
   "source": [
    "# 04 – Functions\n",
    "Define, call, parameters, defaults, return, scope, lambda, and more.\n",
    "\n",
    "**Note:** Loops are out of scope for this notebook."
   ]
  },
  {
   "cell_type": "markdown",
   "id": "define-function",
   "metadata": {},
   "source": [
    "## 1. Define a Function"
   ]
  },
  {
   "cell_type": "code",
   "execution_count": null,
   "id": "greet-func",
   "metadata": {},
   "outputs": [],
   "source": [
    "def greet(name: str) -> None:\n",
    "    print(f'Hello {name}!')\n",
    "\n",
    "greet('Alice')"
   ]
  },
  {
   "cell_type": "markdown",
   "id": "default-params",
   "metadata": {},
   "source": [
    "## 2. Default Parameters"
   ]
  },
  {
   "cell_type": "code",
   "execution_count": null,
   "id": "power-func",
   "metadata": {},
   "outputs": [],
   "source": [
    "def power(base: int, exp: int = 2) -> int:\n",
    "    return base**exp\n",
    "\n",
    "print(power(3))"
   ]
  },
  {
   "cell_type": "markdown",
   "id": "keyword-args",
   "metadata": {},
   "source": [
    "## 3. Keyword Arguments"
   ]
  },
  {
   "cell_type": "code",
   "execution_count": null,
   "id": "keyword-call",
   "metadata": {},
   "outputs": [],
   "source": [
    "print(power(exp=3, base=2))"
   ]
  },
  {
   "cell_type": "markdown",
   "id": "return-values",
   "metadata": {},
   "source": [
    "## 4. Returning Values"
   ]
  },
  {
   "cell_type": "code",
   "execution_count": null,
   "id": "return-example",
   "metadata": {},
   "outputs": [],
   "source": [
    "def multiply(x: int, y: int) -> int:\n",
    "    return x * y\n",
    "\n",
    "result = multiply(4, 5)\n",
    "print(result)"
   ]
  },
  {
   "cell_type": "markdown",
   "id": "multiple-returns",
   "metadata": {},
   "source": [
    "## 5. Returning Multiple Values"
   ]
  },
  {
   "cell_type": "code",
   "execution_count": null,
   "id": "multi-return-code",
   "metadata": {},
   "outputs": [],
   "source": [
    "def stats(a: int, b: int) -> tuple[int, int, int]:\n",
    "    return a + b, a - b, a * b\n",
    "\n",
    "sum_, diff, prod = stats(7, 2)\n",
    "print(sum_, diff, prod)"
   ]
  },
  {
   "cell_type": "markdown",
   "id": "scope",
   "metadata": {},
   "source": [
    "## 6. Variable Scope"
   ]
  },
  {
   "cell_type": "code",
   "execution_count": null,
   "id": "scope-example",
   "metadata": {},
   "outputs": [],
   "source": [
    "x = 'global'\n",
    "\n",
    "def show() -> None:\n",
    "    x = 'local'\n",
    "    print('inside', x)\n",
    "\n",
    "show()\n",
    "print('outside', x)"
   ]
  },
  {
   "cell_type": "markdown",
   "id": "global-vs-nonlocal",
   "metadata": {},
   "source": [
    "## 7.1 Difference Between `global` and `nonlocal`\n",
    "\n",
    "| Keyword     | Affects Variable In...      | Use Case                                  |\n",
    "|-------------|-----------------------------|--------------------------------------------|\n",
    "| `global`    | Global (module-level) scope | Modify a global variable from any function |\n",
    "| `nonlocal`  | Enclosing function scope    | Modify a variable from an outer function   |"
   ]
  },
  {
   "cell_type": "code",
   "execution_count": null,
   "id": "global-example",
   "metadata": {},
   "outputs": [],
   "source": [
    "x = 10\n",
    "\n",
    "def change_global() -> None:\n",
    "    global x\n",
    "    x = 20\n",
    "\n",
    "change_global()\n",
    "print(x)  # Output: 20"
   ]
  },
  {
   "cell_type": "code",
   "execution_count": 18,
   "id": "nonlocal-example",
   "metadata": {},
   "outputs": [
    {
     "name": "stdout",
     "output_type": "stream",
     "text": [
      "Nonlocal y is 15\n",
      "Global y is 0\n"
     ]
    }
   ],
   "source": [
    "y = 0\n",
    "\n",
    "def outer() -> int:\n",
    "    y = 5\n",
    "    def inner() -> None:\n",
    "        nonlocal y\n",
    "        y = 15\n",
    "    inner()\n",
    "    return y\n",
    "\n",
    "\n",
    "print(f\"Nonlocal y is {outer()}\")\n",
    "print(f\"Global y is {y}\")\n"
   ]
  },
  {
   "cell_type": "markdown",
   "id": "lambda-section",
   "metadata": {},
   "source": [
    "## 8. Lambda Expressions"
   ]
  },
  {
   "cell_type": "code",
   "execution_count": null,
   "id": "lambda-example",
   "metadata": {},
   "outputs": [],
   "source": [
    "# Sort a list of tuples by the second item using a lambda\n",
    "students = [\n",
    "    (\"Alice\", 88),\n",
    "    (\"Bob\", 75),\n",
    "    (\"Charlie\", 95),\n",
    "    (\"Diana\", 82)\n",
    "]\n",
    "sorted_students = sorted(students, key=lambda student: student[1], reverse=True)\n",
    "print(\"Students sorted by score (descending):\")\n",
    "for name, score in sorted_students:\n",
    "    print(f\"{name}: {score}\")"
   ]
  },
  {
   "cell_type": "code",
   "execution_count": 19,
   "id": "lambda-var",
   "metadata": {},
   "outputs": [
    {
     "name": "stdout",
     "output_type": "stream",
     "text": [
      "['apple', 'banana', 'pear']\n"
     ]
    }
   ],
   "source": [
    "# Filter a list of strings to only those with more than 4 letters using a lambda\n",
    "fruits = [\"apple\", \"fig\", \"pear\", \"banana\", \"kiwi\"]\n",
    "long_fruits = list(filter(lambda fruit: len(fruit) > 4, fruits))\n",
    "print(long_fruits)"
   ]
  },
  {
   "cell_type": "markdown",
   "id": "pure-functions",
   "metadata": {},
   "source": [
    "## 9. Pure Functions (No side effects)"
   ]
  },
  {
   "cell_type": "code",
   "execution_count": null,
   "id": "pure-code",
   "metadata": {},
   "outputs": [],
   "source": [
    "def add(a: int, b: int) -> int:\n",
    "    return a + b\n",
    "\n",
    "print(add(2, 3))"
   ]
  },
  {
   "cell_type": "markdown",
   "id": "exercise-section",
   "metadata": {},
   "source": [
    "## 10. Exercise: Implement a Recursive Factorial Function"
   ]
  },
  {
   "cell_type": "code",
   "execution_count": null,
   "id": "factorial-code",
   "metadata": {},
   "outputs": [],
   "source": [
    "def factorial(n: int) -> int:\n",
    "    if n == 0 or n == 1:\n",
    "        return 1\n",
    "    return n * factorial(n - 1)\n",
    "\n",
    "print(factorial(5))"
   ]
  },
  {
   "cell_type": "markdown",
   "id": "exercise-1",
   "metadata": {},
   "source": [
    "### Exercise 1: Write a function `square` that takes a number and returns its square.\n",
    "\n",
    "_Write your function and test it below._"
   ]
  },
  {
   "cell_type": "code",
   "execution_count": null,
   "id": "exercise-1-code",
   "metadata": {},
   "outputs": [],
   "source": [
    "# Your code here\n"
   ]
  },
  {
   "cell_type": "markdown",
   "id": "exercise-2",
   "metadata": {},
   "source": [
    "### Exercise 2: Write a function `greet_person` that takes a name and a greeting (default to 'Hello'), and prints the greeting followed by the name.\n",
    "\n",
    "_Example: greet_person('Bob') should print 'Hello Bob'._"
   ]
  },
  {
   "cell_type": "code",
   "execution_count": null,
   "id": "exercise-2-code",
   "metadata": {},
   "outputs": [],
   "source": [
    "# Your code here\n"
   ]
  },
  {
   "cell_type": "markdown",
   "id": "exercise-3",
   "metadata": {},
   "source": [
    "### Exercise 3: Write a function `min_max` that takes two numbers and returns both the minimum and maximum as a tuple.\n",
    "\n",
    "_Test your function with a few examples._"
   ]
  },
  {
   "cell_type": "code",
   "execution_count": null,
   "id": "exercise-3-code",
   "metadata": {},
   "outputs": [],
   "source": [
    "# Your code here\n"
   ]
  },
  {
   "cell_type": "markdown",
   "id": "exercise-4",
   "metadata": {},
   "source": [
    "### Exercise 4: Write a lambda function that takes a string and returns its length. Assign it to a variable called `str_len` and test it.\n"
   ]
  },
  {
   "cell_type": "code",
   "execution_count": null,
   "id": "exercise-4-code",
   "metadata": {},
   "outputs": [],
   "source": [
    "# Your code here\n"
   ]
  },
  {
   "cell_type": "markdown",
   "id": "exercise-5",
   "metadata": {},
   "source": [
    "### Exercise 5: Write a pure function `increment_list` that takes a list of numbers and returns a new list with each number incremented by 1.\n",
    "\n",
    "_Do not modify the original list._"
   ]
  },
  {
   "cell_type": "code",
   "execution_count": null,
   "id": "exercise-5-code",
   "metadata": {},
   "outputs": [],
   "source": [
    "# Your code here\n"
   ]
  }
 ],
 "metadata": {
  "kernelspec": {
   "display_name": "python-workshop",
   "language": "python",
   "name": "python3"
  },
  "language_info": {
   "codemirror_mode": {
    "name": "ipython",
    "version": 3
   },
   "file_extension": ".py",
   "mimetype": "text/x-python",
   "name": "python",
   "nbconvert_exporter": "python",
   "pygments_lexer": "ipython3",
   "version": "3.11.11"
  }
 },
 "nbformat": 4,
 "nbformat_minor": 5
}

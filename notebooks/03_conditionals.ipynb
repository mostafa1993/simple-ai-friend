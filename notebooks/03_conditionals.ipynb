{
 "cells": [
  {
   "cell_type": "markdown",
   "id": "2ec723a5",
   "metadata": {},
   "source": [
    "# 03 - Conditionals\n"
   ]
  },
  {
   "cell_type": "markdown",
   "id": "a86405ec",
   "metadata": {},
   "source": [
    "### if / elif / else"
   ]
  },
  {
   "cell_type": "code",
   "execution_count": null,
   "id": "5101aa93",
   "metadata": {},
   "outputs": [],
   "source": [
    "score = int(input(\"Enter score: \"))\n",
    "if score >= 90:\n",
    "    print(\"A\")\n",
    "elif score >= 80:\n",
    "    print(\"B\")\n",
    "else:\n",
    "    print(\"Needs Improvement\")"
   ]
  },
  {
   "cell_type": "markdown",
   "id": "f32a440a",
   "metadata": {},
   "source": [
    "### Challenge"
   ]
  },
  {
   "cell_type": "code",
   "execution_count": null,
   "id": "47f5deb9",
   "metadata": {},
   "outputs": [],
   "source": [
    "# Write your age conditional here"
   ]
  }
 ],
 "metadata": {},
 "nbformat": 4,
 "nbformat_minor": 5
}

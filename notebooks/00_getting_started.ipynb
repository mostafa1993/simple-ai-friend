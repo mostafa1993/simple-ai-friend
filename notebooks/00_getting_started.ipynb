{
 "cells": [
  {
   "cell_type": "markdown",
   "id": "62917c9c",
   "metadata": {},
   "source": [
    "# 00 - Getting Started\n",
    "\n",
    "Welcome to the Simple AI Assistant Workshop! 🎉\n",
    "\n",
    "## ✅ Goals\n",
    "- Install Python\n",
    "- Set up a code editor (we recommend VS Code)\n",
    "- Install Jupyter Notebooks\n",
    "- Learn how to run Python code in a notebook"
   ]
  },
  {
   "cell_type": "markdown",
   "id": "e3273e83",
   "metadata": {},
   "source": [
    "## 🔧 Step 1: Install Anaconda (Miniconda version)\n",
    "Download Miniconda from: https://www.anaconda.com/download/success\n",
    "\n",
    "Install it with below settings:\n",
    "- Create shortcuts\n",
    "- Add to PATH\n",
    "- Register Miniconda as my defualt Python\n",
    "- Clear the package cache upon completion\n",
    "\n",
    "Open **Windows PowerShell** and run below command to create a new conda environment:\n",
    "```sh\n",
    "conda create -n python-workshop python=3.11\n",
    "```"
   ]
  },
  {
   "cell_type": "markdown",
   "id": "ffffe1f2",
   "metadata": {},
   "source": [
    "## 🛠️ Step 2: Install VS Code\n",
    "Go to Microsft Store and install **Visual Studio Code**\n",
    "\n",
    "Then open the VS Code and install below extensions:\n",
    "- Python\n",
    "- Jupyter\n",
    "\n",
    "On bottom right, click on **Select Interpreter** and choose the conda environment we created (`python-workshop`)"
   ]
  },
  {
   "cell_type": "markdown",
   "id": "f00f7933",
   "metadata": {},
   "source": [
    "## 📦 Step 3: Install Jupyter\n",
    "Open a terminal or command prompt and run:\n",
    "\n",
    "```bash\n",
    "pip install notebook\n",
    "```\n",
    "\n",
    "Then start Jupyter with:\n",
    "\n",
    "```bash\n",
    "jupyter notebook\n",
    "```"
   ]
  },
  {
   "cell_type": "markdown",
   "id": "860dea16",
   "metadata": {},
   "source": [
    "## 🚀 Step 4: Run Your First Code Cell\n",
    "Click into the cell below and press **Shift+Enter** to run it."
   ]
  },
  {
   "cell_type": "code",
   "execution_count": null,
   "id": "ae3089a5",
   "metadata": {},
   "outputs": [],
   "source": [
    "print(\"Hello, world! 🎉\")"
   ]
  }
 ],
 "metadata": {
  "kernelspec": {
   "display_name": "python-workshop",
   "language": "python",
   "name": "python3"
  },
  "language_info": {
   "name": "python",
   "version": "3.11.11"
  }
 },
 "nbformat": 4,
 "nbformat_minor": 5
}

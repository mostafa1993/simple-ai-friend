{
 "cells": [
  {
   "cell_type": "markdown",
   "id": "62917c9c",
   "metadata": {},
   "source": [
    "# 00 - Getting Started\n",
    "\n",
    "Welcome to the Simple AI Assistant Workshop! 🎉\n",
    "\n",
    "## ✅ Goals\n",
    "- Install Python\n",
    "- Set up a code editor (we recommend VS Code)\n",
    "- Install Jupyter Notebooks\n",
    "- Learn how to run Python code in a notebook"
   ]
  },
  {
   "cell_type": "markdown",
   "id": "e3273e83",
   "metadata": {},
   "source": [
    "## 🔧 Step 1: Install Python\n",
    "Download Python from: https://www.python.org/downloads/\n",
    "\n",
    "✅ Make sure to check **\"Add Python to PATH\"** during installation!"
   ]
  },
  {
   "cell_type": "markdown",
   "id": "ffffe1f2",
   "metadata": {},
   "source": [
    "## 🛠️ Step 2: Install VS Code\n",
    "Download from: https://code.visualstudio.com/\n",
    "\n",
    "Then install the **Python extension** from Microsoft."
   ]
  },
  {
   "cell_type": "markdown",
   "id": "f00f7933",
   "metadata": {},
   "source": [
    "## 📦 Step 3: Install Jupyter\n",
    "Open a terminal or command prompt and run:\n",
    "\n",
    "```bash\n",
    "pip install notebook\n",
    "```\n",
    "\n",
    "Then start Jupyter with:\n",
    "\n",
    "```bash\n",
    "jupyter notebook\n",
    "```"
   ]
  },
  {
   "cell_type": "markdown",
   "id": "860dea16",
   "metadata": {},
   "source": [
    "## 🚀 Step 4: Run Your First Code Cell\n",
    "Click into the cell below and press **Shift+Enter** to run it."
   ]
  },
  {
   "cell_type": "code",
   "execution_count": null,
   "id": "ae3089a5",
   "metadata": {},
   "outputs": [],
   "source": [
    "print(\"Hello, world! 🎉\")"
   ]
  }
 ],
 "metadata": {},
 "nbformat": 4,
 "nbformat_minor": 5
}

{
 "cells": [
  {
   "cell_type": "markdown",
   "id": "dedfe4d5",
   "metadata": {},
   "source": [
    "# 07 – Classes & Objects\n",
    "Intro to OOP."
   ]
  },
  {
   "cell_type": "markdown",
   "id": "269970ee",
   "metadata": {},
   "source": [
    "### Dog class"
   ]
  },
  {
   "cell_type": "code",
   "execution_count": null,
   "id": "434620f1",
   "metadata": {},
   "outputs": [],
   "source": [
    "class Dog:\n",
    "    species='Canis lupus'\n",
    "    def __init__(self,name: str) -> None:\n",
    "        self.name=name\n",
    "    def bark(self) -> str:\n",
    "        return f'{self.name} woof!'\n",
    "\n",
    "buddy=Dog('Buddy'); buddy.bark()"
   ]
  },
  {
   "cell_type": "markdown",
   "id": "00ffd06f",
   "metadata": {},
   "source": [
    "### Color utility"
   ]
  },
  {
   "cell_type": "code",
   "execution_count": null,
   "id": "6bd21647",
   "metadata": {},
   "outputs": [],
   "source": [
    "class Color:\n",
    "    RED='\\033[91m'; RESET='\\033[0m'\n",
    "    def red(self,text):\n",
    "        return f'{self.RED}{text}{self.RESET}'\n",
    "\n",
    "print(Color().red('alert'))"
   ]
  },
  {
   "cell_type": "markdown",
   "id": "6d18fe1f",
   "metadata": {},
   "source": [
    "### Exercise: BankAccount"
   ]
  },
  {
   "cell_type": "code",
   "execution_count": null,
   "id": "f4f07331",
   "metadata": {},
   "outputs": [],
   "source": [
    "# class here"
   ]
  }
 ],
 "metadata": {
  "language_info": {
   "name": "python"
  }
 },
 "nbformat": 4,
 "nbformat_minor": 5
}

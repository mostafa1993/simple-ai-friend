{
 "cells": [
  {
   "cell_type": "markdown",
   "id": "7e6c76ad",
   "metadata": {},
   "source": [
    "# 02 - Input and Output\n",
    "\n",
    "Learn to interact with the user."
   ]
  },
  {
   "cell_type": "markdown",
   "id": "eab7e4c5",
   "metadata": {},
   "source": [
    "### input() & print()"
   ]
  },
  {
   "cell_type": "code",
   "execution_count": null,
   "id": "c023a254",
   "metadata": {},
   "outputs": [],
   "source": [
    "name = input(\"What is your name? \")\n",
    "print(f\"Hello {name}!\")"
   ]
  },
  {
   "cell_type": "markdown",
   "id": "811a9b98",
   "metadata": {},
   "source": [
    "### Converting Input"
   ]
  },
  {
   "cell_type": "code",
   "execution_count": null,
   "id": "ef7661f8",
   "metadata": {},
   "outputs": [],
   "source": [
    "age = int(input(\"How old are you? \"))\n",
    "print(age + 1)"
   ]
  }
 ],
 "metadata": {},
 "nbformat": 4,
 "nbformat_minor": 5
}
